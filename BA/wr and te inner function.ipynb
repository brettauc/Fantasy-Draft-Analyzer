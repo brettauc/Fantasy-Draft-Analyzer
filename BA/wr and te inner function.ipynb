{
 "cells": [
  {
   "cell_type": "code",
   "execution_count": 74,
   "metadata": {},
   "outputs": [
    {
     "name": "stderr",
     "output_type": "stream",
     "text": [
      "WARNING:param.panel_extension: A HoloViz extension was loaded previously. This means the extension is already initialized and the following Panel extensions could not be properly loaded: ['plotly']. If you are loading custom extensions with pn.extension(...) ensure that this is called before any other HoloViz extension such as hvPlot or HoloViews.\n"
     ]
    }
   ],
   "source": [
    "# initial imports\n",
    "import pandas as pd\n",
    "import numpy as np\n",
    "import panel as pn\n",
    "import hvplot.pandas\n",
    "from panel.interact import interact\n",
    "import plotly.express as px\n",
    "pn.extension(\"plotly\")"
   ]
  },
  {
   "cell_type": "code",
   "execution_count": 75,
   "metadata": {},
   "outputs": [],
   "source": [
    "def wide_receivers(wrRec,wrYds,wrTDs,wrFum):\n",
    "\n",
    "    #read in CSV\n",
    "    wr_path = (\"../Resources/wide_receivers.csv\")\n",
    "    wr_df = pd.read_csv(wr_path)\n",
    "\n",
    "        \n",
    "    # Selection PARAMATERS\n",
    "    wr_df = wr_df.loc[wr_df['Receptions'] >= wrRec[0]]\n",
    "    wr_df = wr_df.loc[wr_df['Receptions'] <= wrRec[1]]\n",
    "    wr_df = wr_df.loc[wr_df['Receiving Yards'] >= wrYds[0]]\n",
    "    wr_df = wr_df.loc[wr_df['Receiving Yards'] <= wrYds[1]]\n",
    "    wr_df = wr_df.loc[wr_df['Receiving Touchdowns'] >= wrTDs[0]]\n",
    "    wr_df = wr_df.loc[wr_df['Receiving Touchdowns'] <= wrTDs[1]]\n",
    "    wr_df = wr_df.loc[wr_df['Fumbles'] >= wrFum[0]]\n",
    "    wr_df = wr_df.loc[wr_df['Fumbles'] <= wrFum[1]]\n",
    "    \n",
    "    \n",
    "    #PLOTTING SECTION\n",
    "    #group by players\n",
    "    Rec_by_player = wr_df[[\"Player\",\"Receptions\"]]\n",
    "    total_Rec_by_player = Rec_by_player.sort_values(by = 'Receptions', ascending = False)\n",
    "\n",
    "    Rec_Yds_by_player = wr_df[[\"Player\",\"Receiving Yards\"]]\n",
    "    total_Rec_Yds_by_player = Rec_Yds_by_player.sort_values(by = 'Receiving Yards', ascending = False)\n",
    "\n",
    "    Rec_TDs_by_player = wr_df[[\"Player\",\"Receiving Touchdowns\"]]\n",
    "    total_Rec_TDs_by_player = Rec_TDs_by_player.sort_values(by = 'Receiving Touchdowns', ascending = False)\n",
    "    \n",
    "    Fum_by_player = wr_df[[\"Player\",\"Fumbles\"]]\n",
    "    total_Fum_by_player = Fum_by_player.sort_values(by = 'Fumbles', ascending = False)\n",
    "\n",
    "    \n",
    "    #Plot bar charts\n",
    "    wrRec_bar = total_Rec_by_player.hvplot.bar(title = \"Receptions by Player\", x = 'Player', width=1000, height=300, rot = 90)\n",
    "    wrRec_Yds_bar = total_Rec_Yds_by_player.hvplot.bar(title = \"Receiving Yards by Player\", x = 'Player', width=1000, height=300,  rot = 90)\n",
    "    wrRec_TDs_bar = total_Rec_TDs_by_player.hvplot.bar(title = \"Receiving Touchdowns by Player\", x = 'Player', width=1000, height=300, rot = 90)\n",
    "    wrFum_bar = total_Fum_by_player.hvplot.bar(title = \"Fumbles by Player\", x = 'Player', width=1000, height=300, rot = 90)\n",
    "\n",
    "    return pn.Row(pn.Column(wrRec_bar, wrRec_Yds_bar),\n",
    "                  pn.Column(wrRec_TDs_bar, wrFum_bar))"
   ]
  },
  {
   "cell_type": "code",
   "execution_count": 81,
   "metadata": {},
   "outputs": [],
   "source": [
    "def tight_ends(teRec,teYds,teTDs,teFum):\n",
    "\n",
    "    #read in CSV\n",
    "    te_path = (\"../Resources/tight_ends.csv\")\n",
    "    te_df = pd.read_csv(te_path)\n",
    "\n",
    "        \n",
    "    # Selection PARAMATERS\n",
    "    te_df = te_df.loc[te_df['Receptions'] >= teRec[0]]\n",
    "    te_df = te_df.loc[te_df['Receptions'] <= teRec[1]]\n",
    "    te_df = te_df.loc[te_df['Receiving Yards'] >= teYds[0]]\n",
    "    te_df = te_df.loc[te_df['Receiving Yards'] <= teYds[1]]\n",
    "    te_df = te_df.loc[te_df['Receiving Touchdowns'] >= teTDs[0]]\n",
    "    te_df = te_df.loc[te_df['Receiving Touchdowns'] <= teTDs[1]]\n",
    "    te_df = te_df.loc[te_df['Fumbles'] >= teFum[0]]\n",
    "    te_df = te_df.loc[te_df['Fumbles'] <= teFum[1]]\n",
    "    \n",
    "    \n",
    "    #PLOTTING SECTION\n",
    "    #group by players\n",
    "    Rec_by_player = te_df[[\"Player\",\"Receptions\"]]\n",
    "    total_Rec_by_player = Rec_by_player.sort_values(by = 'Receptions', ascending = False)\n",
    "\n",
    "    Rec_Yds_by_player = te_df[[\"Player\",\"Receiving Yards\"]]\n",
    "    total_Rec_Yds_by_player = Rec_Yds_by_player.sort_values(by = 'Receiving Yards', ascending = False)\n",
    "\n",
    "    Rec_TDs_by_player = te_df[[\"Player\",\"Receiving Touchdowns\"]]\n",
    "    total_Rec_TDs_by_player = Rec_TDs_by_player.sort_values(by = 'Receiving Touchdowns', ascending = False)\n",
    "    \n",
    "    Fum_by_player = te_df[[\"Player\",\"Fumbles\"]]\n",
    "    total_Fum_by_player = Fum_by_player.sort_values(by = 'Fumbles', ascending = False)\n",
    "\n",
    "    \n",
    "    #Plot bar charts\n",
    "    teRec_bar = total_Rec_by_player.hvplot.bar(title = \"Receptions by Player\", x = 'Player', width=900, height=300, rot = 90)\n",
    "    teRec_Yds_bar = total_Rec_Yds_by_player.hvplot.bar(title = \"Receiving Yards by Player\", x = 'Player', width=900, height=300,  rot = 90)\n",
    "    teRec_TDs_bar = total_Rec_TDs_by_player.hvplot.bar(title = \"Receiving Touchdowns by Player\", x = 'Player', width=900, height=300, rot = 90)\n",
    "    teFum_bar = total_Fum_by_player.hvplot.bar(title = \"Fumbles by Player\", x = 'Player', width=900, height=300, rot = 90)\n",
    "\n",
    "    return pn.Row(pn.Column(teRec_bar, teRec_Yds_bar),\n",
    "                  pn.Column(teRec_TDs_bar, teFum_bar))"
   ]
  },
  {
   "cell_type": "code",
   "execution_count": 82,
   "metadata": {},
   "outputs": [
    {
     "data": {
      "application/vnd.holoviews_exec.v0+json": "",
      "text/html": [
       "<div id='23673'>\n",
       "\n",
       "\n",
       "\n",
       "\n",
       "\n",
       "  <div class=\"bk-root\" id=\"38b8cd90-e726-432f-a5e0-50eb59bb4da2\" data-root-id=\"23673\"></div>\n",
       "</div>\n",
       "<script type=\"application/javascript\">(function(root) {\n",
       "  function embed_document(root) {\n",
       "  var docs_json = {\"bb55c883-090f-4b74-971b-501fe6e4314a\":{\"roots\":{\"references\":[{\"attributes\":{\"active_drag\":\"auto\",\"active_inspect\":\"auto\",\"active_multi\":null,\"active_scroll\":\"auto\",\"active_tap\":\"auto\",\"tools\":[{\"id\":\"23869\"},{\"id\":\"23886\"},{\"id\":\"23887\"},{\"id\":\"23888\"},{\"id\":\"23889\"},{\"id\":\"23890\"}]},\"id\":\"23892\",\"type\":\"Toolbar\"},{\"attributes\":{\"text\":\"Receptions by Player\",\"text_color\":{\"value\":\"black\"},\"text_font_size\":{\"value\":\"12pt\"}},\"id\":\"23690\",\"type\":\"Title\"},{\"attributes\":{\"bottom_units\":\"screen\",\"fill_alpha\":0.5,\"fill_color\":\"lightgrey\",\"left_units\":\"screen\",\"level\":\"overlay\",\"line_alpha\":1.0,\"line_color\":\"black\",\"line_dash\":[4,4],\"line_width\":2,\"right_units\":\"screen\",\"top_units\":\"screen\"},\"id\":\"23891\",\"type\":\"BoxAnnotation\"},{\"attributes\":{},\"id\":\"23840\",\"type\":\"Selection\"},{\"attributes\":{\"source\":{\"id\":\"23778\"}},\"id\":\"23785\",\"type\":\"CDSView\"},{\"attributes\":{\"active_drag\":\"auto\",\"active_inspect\":\"auto\",\"active_multi\":null,\"active_scroll\":\"auto\",\"active_tap\":\"auto\",\"tools\":[{\"id\":\"23748\"},{\"id\":\"23765\"},{\"id\":\"23766\"},{\"id\":\"23767\"},{\"id\":\"23768\"},{\"id\":\"23769\"}]},\"id\":\"23771\",\"type\":\"Toolbar\"},{\"attributes\":{\"text\":\"Fumbles by Player\",\"text_color\":{\"value\":\"black\"},\"text_font_size\":{\"value\":\"12pt\"}},\"id\":\"23871\",\"type\":\"Title\"},{\"attributes\":{\"children\":[{\"id\":\"23677\"}],\"margin\":[0,0,0,0],\"name\":\"Row30108\"},\"id\":\"23676\",\"type\":\"Row\"},{\"attributes\":{},\"id\":\"23877\",\"type\":\"LinearScale\"},{\"attributes\":{\"axis\":{\"id\":\"23879\"},\"grid_line_color\":null,\"ticker\":null},\"id\":\"23881\",\"type\":\"Grid\"},{\"attributes\":{\"fill_color\":{\"value\":\"#1f77b3\"},\"top\":{\"field\":\"Receiving_Yards\"},\"width\":{\"value\":0.8},\"x\":{\"field\":\"Player\"}},\"id\":\"23781\",\"type\":\"VBar\"},{\"attributes\":{},\"id\":\"23826\",\"type\":\"SaveTool\"},{\"attributes\":{},\"id\":\"23828\",\"type\":\"WheelZoomTool\"},{\"attributes\":{\"fill_alpha\":{\"value\":0.1},\"fill_color\":{\"value\":\"#1f77b3\"},\"line_alpha\":{\"value\":0.1},\"top\":{\"field\":\"Fumbles\"},\"width\":{\"value\":0.8},\"x\":{\"field\":\"Player\"}},\"id\":\"23903\",\"type\":\"VBar\"},{\"attributes\":{\"axis_label\":\"Player\",\"bounds\":\"auto\",\"formatter\":{\"id\":\"23908\"},\"major_label_orientation\":1.5707963267948966,\"ticker\":{\"id\":\"23880\"}},\"id\":\"23879\",\"type\":\"CategoricalAxis\"},{\"attributes\":{\"fill_alpha\":{\"value\":0.2},\"fill_color\":{\"value\":\"#1f77b3\"},\"line_alpha\":{\"value\":0.2},\"top\":{\"field\":\"Receiving_Yards\"},\"width\":{\"value\":0.8},\"x\":{\"field\":\"Player\"}},\"id\":\"23783\",\"type\":\"VBar\"},{\"attributes\":{},\"id\":\"23827\",\"type\":\"PanTool\"},{\"attributes\":{\"overlay\":{\"id\":\"23831\"}},\"id\":\"23829\",\"type\":\"BoxZoomTool\"},{\"attributes\":{},\"id\":\"23875\",\"type\":\"CategoricalScale\"},{\"attributes\":{\"data_source\":{\"id\":\"23899\"},\"glyph\":{\"id\":\"23902\"},\"hover_glyph\":null,\"muted_glyph\":{\"id\":\"23904\"},\"nonselection_glyph\":{\"id\":\"23903\"},\"selection_glyph\":null,\"view\":{\"id\":\"23906\"}},\"id\":\"23905\",\"type\":\"GlyphRenderer\"},{\"attributes\":{\"axis\":{\"id\":\"23882\"},\"dimension\":1,\"grid_line_color\":null,\"ticker\":null},\"id\":\"23885\",\"type\":\"Grid\"},{\"attributes\":{\"axis_label\":\"Fumbles\",\"bounds\":\"auto\",\"formatter\":{\"id\":\"23910\"},\"major_label_orientation\":\"horizontal\",\"ticker\":{\"id\":\"23883\"}},\"id\":\"23882\",\"type\":\"LinearAxis\"},{\"attributes\":{\"data\":{\"Player\":[\"Michael Thomas\",\"DeAndre Hopkins\",\"Keenan Allen\",\"Julian Edelman\",\"Julio Jones \",\"Allen Robinson\",\"Cooper Kupp\",\"Tyler Boyd\",\"Robert Woods\",\"D.J. Moore\",\"Chris Godwin\",\"Jarvis Landry\",\"Davante Adams\",\"Tyler Lockett\",\"Amari Cooper\",\"Jamison Crowder\",\"Larry Fitzgerald\",\"Odell Beckham Jr.\",\"DJ Chark\",\"John Brown\",\"DeVante Parker\",\"Courtland Sutton\",\"Christian Kirk\",\"Mike Evans\",\"Cole Beasley\",\"Michael Gallup\",\"Dede Westbrook\",\"Kenny Golladay\",\"Stefon Diggs\",\"Calvin Ridley\",\"Danny Amendola\",\"Marvin Jones\",\"Diontae Johnson\",\"Tyreek Hill\",\"Terry McLaurin\",\"D.K. Metcalf\",\"Sterling Shepard\",\"Deebo Samuel\",\"Randall Cobb\",\"Curtis Samuel\",\"Robby Anderson\",\"A.J. Brown\",\"Anthony Miller\",\"Sammy Watkins\",\"Will Fuller\",\"Golden Tate\",\"Mike Williams\",\"Darius Slayton\",\"Chris Conley\",\"Marquise Brown\",\"T.Y. Hilton\",\"James Washington\",\"Corey Davis\",\"Alex Erickson\",\"Alshon Jeffery\",\"Brandin Cooks\",\"JuJu Smith-Schuster\",\"Tyrell Williams\",\"Zach Pascal\",\"Auden Tate\",\"Kenny Stills\",\"Nelson Agholor\",\"Demaryius Thomas\",\"Geronimo Allison\",\"Allen Hurns\",\"Demarcus Robinson\",\"Preston Williams\",\"Willie Snead\",\"Ted Ginn Jr.\",\"Kelvin Harmon\",\"Adam Thielen\",\"Taylor Gabriel\",\"Paul Richardson\",\"John Ross\",\"Jarius Wright\",\"Isaiah McKenzie\",\"Mecole Hardman\",\"Trey Quinn\",\"Marquez Valdes-Scantling\",\"Tajae Sharpe\",\"Cody Latimer\",\"Taysom Hill\",\"Javon Wims\",\"Tre'Quan Smith\",\"Marcus Johnson\",\"Jaron Brown\",\"Chester Rogers\",\"Miles Boykin\",\"Marquise Goodwin\",\"N'Keal Harry\",\"JJ Arcega-Whiteside\",\"Daniel Brown\",\"Andre Patton\",\"Lee Smith\"],\"Receptions\":[149,104,104,100,99,98,94,90,90,87,86,83,83,82,79,78,75,74,73,72,72,72,68,67,67,66,66,65,63,63,62,62,59,58,58,58,57,57,55,54,52,52,52,52,49,49,49,48,47,46,45,44,43,43,43,42,42,42,41,40,40,39,36,34,32,32,32,31,30,30,30,29,28,28,28,27,26,26,26,25,24,19,18,18,17,16,16,13,12,12,10,7,6,4]},\"selected\":{\"id\":\"23719\"},\"selection_policy\":{\"id\":\"23736\"}},\"id\":\"23718\",\"type\":\"ColumnDataSource\"},{\"attributes\":{},\"id\":\"23830\",\"type\":\"ResetTool\"},{\"attributes\":{},\"id\":\"23880\",\"type\":\"CategoricalTicker\"},{\"attributes\":{\"active_drag\":\"auto\",\"active_inspect\":\"auto\",\"active_multi\":null,\"active_scroll\":\"auto\",\"active_tap\":\"auto\",\"tools\":[{\"id\":\"23688\"},{\"id\":\"23705\"},{\"id\":\"23706\"},{\"id\":\"23707\"},{\"id\":\"23708\"},{\"id\":\"23709\"}]},\"id\":\"23711\",\"type\":\"Toolbar\"},{\"attributes\":{\"fill_alpha\":{\"value\":0.1},\"fill_color\":{\"value\":\"#1f77b3\"},\"line_alpha\":{\"value\":0.1},\"top\":{\"field\":\"Receiving_Yards\"},\"width\":{\"value\":0.8},\"x\":{\"field\":\"Player\"}},\"id\":\"23782\",\"type\":\"VBar\"},{\"attributes\":{},\"id\":\"23796\",\"type\":\"UnionRenderers\"},{\"attributes\":{\"fill_alpha\":{\"value\":0.2},\"fill_color\":{\"value\":\"#1f77b3\"},\"line_alpha\":{\"value\":0.2},\"top\":{\"field\":\"Fumbles\"},\"width\":{\"value\":0.8},\"x\":{\"field\":\"Player\"}},\"id\":\"23904\",\"type\":\"VBar\"},{\"attributes\":{},\"id\":\"23883\",\"type\":\"BasicTicker\"},{\"attributes\":{\"bottom_units\":\"screen\",\"fill_alpha\":0.5,\"fill_color\":\"lightgrey\",\"left_units\":\"screen\",\"level\":\"overlay\",\"line_alpha\":1.0,\"line_color\":\"black\",\"line_dash\":[4,4],\"line_width\":2,\"right_units\":\"screen\",\"top_units\":\"screen\"},\"id\":\"23710\",\"type\":\"BoxAnnotation\"},{\"attributes\":{\"data_source\":{\"id\":\"23778\"},\"glyph\":{\"id\":\"23781\"},\"hover_glyph\":null,\"muted_glyph\":{\"id\":\"23783\"},\"nonselection_glyph\":{\"id\":\"23782\"},\"selection_glyph\":null,\"view\":{\"id\":\"23785\"}},\"id\":\"23784\",\"type\":\"GlyphRenderer\"},{\"attributes\":{\"fill_alpha\":{\"value\":0.2},\"fill_color\":{\"value\":\"#1f77b3\"},\"line_alpha\":{\"value\":0.2},\"top\":{\"field\":\"Receptions\"},\"width\":{\"value\":0.8},\"x\":{\"field\":\"Player\"}},\"id\":\"23723\",\"type\":\"VBar\"},{\"attributes\":{\"fill_color\":{\"value\":\"#1f77b3\"},\"top\":{\"field\":\"Fumbles\"},\"width\":{\"value\":0.8},\"x\":{\"field\":\"Player\"}},\"id\":\"23902\",\"type\":\"VBar\"},{\"attributes\":{\"fill_color\":{\"value\":\"#1f77b3\"},\"top\":{\"field\":\"Receiving_Touchdowns\"},\"width\":{\"value\":0.8},\"x\":{\"field\":\"Player\"}},\"id\":\"23842\",\"type\":\"VBar\"},{\"attributes\":{},\"id\":\"23779\",\"type\":\"Selection\"},{\"attributes\":{},\"id\":\"23729\",\"type\":\"BasicTickFormatter\"},{\"attributes\":{\"source\":{\"id\":\"23839\"}},\"id\":\"23846\",\"type\":\"CDSView\"},{\"attributes\":{\"client_comm_id\":\"027a53e228b244909ca9c5a0b4e49b3f\",\"comm_id\":\"bd5e03e14a8e4950a9e524af8444ec7f\",\"plot_id\":\"23673\"},\"id\":\"24023\",\"type\":\"panel.models.comm_manager.CommManager\"},{\"attributes\":{\"fill_color\":{\"value\":\"#1f77b3\"},\"top\":{\"field\":\"Receptions\"},\"width\":{\"value\":0.8},\"x\":{\"field\":\"Player\"}},\"id\":\"23721\",\"type\":\"VBar\"},{\"attributes\":{},\"id\":\"23707\",\"type\":\"WheelZoomTool\"},{\"attributes\":{\"end\":163.5,\"reset_end\":163.5,\"reset_start\":0.0,\"tags\":[[[\"Receptions\",\"Receptions\",null]]]},\"id\":\"23687\",\"type\":\"Range1d\"},{\"attributes\":{\"children\":[{\"id\":\"23689\"},{\"id\":\"23749\"}],\"margin\":[0,0,0,0],\"name\":\"Column30093\"},\"id\":\"23685\",\"type\":\"Column\"},{\"attributes\":{\"source\":{\"id\":\"23899\"}},\"id\":\"23906\",\"type\":\"CDSView\"},{\"attributes\":{\"active_drag\":\"auto\",\"active_inspect\":\"auto\",\"active_multi\":null,\"active_scroll\":\"auto\",\"active_tap\":\"auto\",\"tools\":[{\"id\":\"23809\"},{\"id\":\"23826\"},{\"id\":\"23827\"},{\"id\":\"23828\"},{\"id\":\"23829\"},{\"id\":\"23830\"}]},\"id\":\"23832\",\"type\":\"Toolbar\"},{\"attributes\":{\"data\":{\"Player\":[\"Michael Thomas\",\"Julio Jones \",\"Chris Godwin\",\"DeVante Parker\",\"Keenan Allen\",\"Kenny Golladay\",\"Amari Cooper\",\"D.J. Moore\",\"Jarvis Landry\",\"DeAndre Hopkins\",\"Cooper Kupp\",\"Mike Evans\",\"Allen Robinson\",\"Robert Woods\",\"Stefon Diggs\",\"Julian Edelman\",\"Courtland Sutton\",\"Michael Gallup\",\"John Brown\",\"Tyler Lockett\",\"A.J. Brown\",\"Tyler Boyd\",\"Odell Beckham Jr.\",\"DJ Chark\",\"Mike Williams\",\"Davante Adams\",\"Terry McLaurin\",\"D.K. Metcalf\",\"Calvin Ridley\",\"Tyreek Hill\",\"Jamison Crowder\",\"Randall Cobb\",\"Larry Fitzgerald\",\"Deebo Samuel\",\"Marvin Jones\",\"Robby Anderson\",\"Cole Beasley\",\"Chris Conley\",\"Darius Slayton\",\"James Washington\",\"Christian Kirk\",\"Diontae Johnson\",\"Danny Amendola\",\"Golden Tate\",\"Sammy Watkins\",\"Will Fuller\",\"Dede Westbrook\",\"Anthony Miller\",\"Tyrell Williams\",\"Curtis Samuel\",\"Zach Pascal\",\"Corey Davis\",\"Marquise Brown\",\"Brandin Cooks\",\"Sterling Shepard\",\"Auden Tate\",\"Kenny Stills\",\"JuJu Smith-Schuster\",\"Mecole Hardman\",\"Alex Erickson\",\"John Ross\",\"T.Y. Hilton\",\"Alshon Jeffery\",\"Marquez Valdes-Scantling\",\"Demarcus Robinson\",\"Demaryius Thomas\",\"Preston Williams\",\"Ted Ginn Jr.\",\"Adam Thielen\",\"Allen Hurns\",\"Kelvin Harmon\",\"Nelson Agholor\",\"Taylor Gabriel\",\"Willie Snead\",\"Tajae Sharpe\",\"Cody Latimer\",\"Jarius Wright\",\"Geronimo Allison\",\"Marcus Johnson\",\"Isaiah McKenzie\",\"Paul Richardson\",\"Taysom Hill\",\"Tre'Quan Smith\",\"Jaron Brown\",\"Trey Quinn\",\"Miles Boykin\",\"Javon Wims\",\"Marquise Goodwin\",\"Chester Rogers\",\"JJ Arcega-Whiteside\",\"N'Keal Harry\",\"Daniel Brown\",\"Andre Patton\",\"Lee Smith\"],\"Receiving_Yards\":[1725,1394,1333,1202,1199,1190,1189,1175,1174,1165,1161,1157,1147,1134,1130,1117,1112,1107,1060,1057,1051,1046,1035,1008,1001,997,919,900,866,860,833,828,804,802,779,779,778,775,740,735,709,680,678,676,673,670,660,656,651,627,607,601,584,583,576,575,561,552,538,529,506,501,490,452,449,433,428,421,418,416,365,363,353,339,329,300,296,287,277,254,245,234,234,220,198,198,186,186,179,169,105,72,56,31]},\"selected\":{\"id\":\"23779\"},\"selection_policy\":{\"id\":\"23796\"}},\"id\":\"23778\",\"type\":\"ColumnDataSource\"},{\"attributes\":{\"data\":{\"Player\":[\"Kenny Golladay\",\"Cooper Kupp\",\"Michael Thomas\",\"Marvin Jones\",\"DeVante Parker\",\"Chris Godwin\",\"Tyler Lockett\",\"A.J. Brown\",\"Mike Evans\",\"DJ Chark\",\"Amari Cooper\",\"Darius Slayton\",\"Marquise Brown\",\"DeAndre Hopkins\",\"D.K. Metcalf\",\"Terry McLaurin\",\"Allen Robinson\",\"Tyreek Hill\",\"Calvin Ridley\",\"Jarvis Landry\",\"Stefon Diggs\",\"Taysom Hill\",\"Mecole Hardman\",\"Adam Thielen\",\"Tyrell Williams\",\"Golden Tate\",\"Curtis Samuel\",\"Julian Edelman\",\"Keenan Allen\",\"Julio Jones \",\"Jamison Crowder\",\"Michael Gallup\",\"Cole Beasley\",\"Courtland Sutton\",\"John Brown\",\"Tyler Boyd\",\"Willie Snead\",\"Zach Pascal\",\"Davante Adams\",\"T.Y. Hilton\",\"Chris Conley\",\"Tre'Quan Smith\",\"Diontae Johnson\",\"Robby Anderson\",\"Taylor Gabriel\",\"D.J. Moore\",\"Demarcus Robinson\",\"Tajae Sharpe\",\"Alshon Jeffery\",\"Kenny Stills\",\"Larry Fitzgerald\",\"Odell Beckham Jr.\",\"Christian Kirk\",\"Preston Williams\",\"John Ross\",\"Miles Boykin\",\"Sammy Watkins\",\"Nelson Agholor\",\"JuJu Smith-Schuster\",\"Deebo Samuel\",\"James Washington\",\"Sterling Shepard\",\"Randall Cobb\",\"Will Fuller\",\"Dede Westbrook\",\"Jaron Brown\",\"Chester Rogers\",\"Marquez Valdes-Scantling\",\"Cody Latimer\",\"Paul Richardson\",\"Anthony Miller\",\"Ted Ginn Jr.\",\"Allen Hurns\",\"Geronimo Allison\",\"Brandin Cooks\",\"Corey Davis\",\"Robert Woods\",\"Marcus Johnson\",\"Mike Williams\",\"N'Keal Harry\",\"Marquise Goodwin\",\"JJ Arcega-Whiteside\",\"Daniel Brown\",\"Lee Smith\",\"Javon Wims\",\"Trey Quinn\",\"Isaiah McKenzie\",\"Demaryius Thomas\",\"Auden Tate\",\"Danny Amendola\",\"Jarius Wright\",\"Kelvin Harmon\",\"Andre Patton\",\"Alex Erickson\"],\"Receiving_Touchdowns\":[11,10,9,9,9,9,8,8,8,8,8,8,7,7,7,7,7,7,7,6,6,6,6,6,6,6,6,6,6,6,6,6,6,6,6,5,5,5,5,5,5,5,5,5,4,4,4,4,4,4,4,4,3,3,3,3,3,3,3,3,3,3,3,3,3,2,2,2,2,2,2,2,2,2,2,2,2,2,2,2,1,1,1,1,1,1,1,1,1,1,0,0,0,0]},\"selected\":{\"id\":\"23840\"},\"selection_policy\":{\"id\":\"23857\"}},\"id\":\"23839\",\"type\":\"ColumnDataSource\"},{\"attributes\":{\"end\":15,\"format\":\"0[.]00\",\"margin\":[5,10,5,10],\"start\":0,\"title\":\"# of Fumbles\",\"value\":[0,15]},\"id\":\"23682\",\"type\":\"RangeSlider\"},{\"attributes\":{\"source\":{\"id\":\"23718\"}},\"id\":\"23725\",\"type\":\"CDSView\"},{\"attributes\":{\"fill_alpha\":{\"value\":0.2},\"fill_color\":{\"value\":\"#1f77b3\"},\"line_alpha\":{\"value\":0.2},\"top\":{\"field\":\"Receiving_Touchdowns\"},\"width\":{\"value\":0.8},\"x\":{\"field\":\"Player\"}},\"id\":\"23844\",\"type\":\"VBar\"},{\"attributes\":{\"children\":[{\"id\":\"23810\"},{\"id\":\"23870\"}],\"margin\":[0,0,0,0],\"name\":\"Column30104\"},\"id\":\"23806\",\"type\":\"Column\"},{\"attributes\":{\"callback\":null,\"renderers\":[{\"id\":\"23905\"}],\"tags\":[\"hv_created\"],\"tooltips\":[[\"Player\",\"@{Player}\"],[\"Fumbles\",\"@{Fumbles}\"]]},\"id\":\"23869\",\"type\":\"HoverTool\"},{\"attributes\":{},\"id\":\"23719\",\"type\":\"Selection\"},{\"attributes\":{},\"id\":\"23736\",\"type\":\"UnionRenderers\"},{\"attributes\":{\"bottom_units\":\"screen\",\"fill_alpha\":0.5,\"fill_color\":\"lightgrey\",\"left_units\":\"screen\",\"level\":\"overlay\",\"line_alpha\":1.0,\"line_color\":\"black\",\"line_dash\":[4,4],\"line_width\":2,\"right_units\":\"screen\",\"top_units\":\"screen\"},\"id\":\"23831\",\"type\":\"BoxAnnotation\"},{\"attributes\":{\"callback\":null,\"renderers\":[{\"id\":\"23724\"}],\"tags\":[\"hv_created\"],\"tooltips\":[[\"Player\",\"@{Player}\"],[\"Receptions\",\"@{Receptions}\"]]},\"id\":\"23688\",\"type\":\"HoverTool\"},{\"attributes\":{\"data_source\":{\"id\":\"23839\"},\"glyph\":{\"id\":\"23842\"},\"hover_glyph\":null,\"muted_glyph\":{\"id\":\"23844\"},\"nonselection_glyph\":{\"id\":\"23843\"},\"selection_glyph\":null,\"view\":{\"id\":\"23846\"}},\"id\":\"23845\",\"type\":\"GlyphRenderer\"},{\"attributes\":{},\"id\":\"23900\",\"type\":\"Selection\"},{\"attributes\":{\"data\":{\"Fumbles\":{\"__ndarray__\":\"AAAAAAAAFEAAAAAAAAAQQAAAAAAAABBAAAAAAAAACEAAAAAAAAAIQAAAAAAAAAhAAAAAAAAAAEAAAAAAAAAAQAAAAAAAAABAAAAAAAAAAEAAAAAAAAAAQAAAAAAAAABAAAAAAAAAAEAAAAAAAAAAQAAAAAAAAABAAAAAAAAAAEAAAAAAAAAAQAAAAAAAAABAAAAAAAAA8D8AAAAAAADwPwAAAAAAAPA/AAAAAAAA8D8AAAAAAADwPwAAAAAAAPA/AAAAAAAA8D8AAAAAAADwPwAAAAAAAPA/AAAAAAAA8D8AAAAAAADwPwAAAAAAAPA/AAAAAAAA8D8AAAAAAADwPwAAAAAAAPA/AAAAAAAA8D8AAAAAAADwPwAAAAAAAPA/AAAAAAAA8D8AAAAAAADwPwAAAAAAAAAAAAAAAAAAAAAAAAAAAAAAAAAAAAAAAAAAAAAAAAAAAAAAAAAAAAAAAAAAAAAAAAAAAAAAAAAAAAAAAAAAAAAAAAAAAAAAAAAAAAAAAAAAAAAAAAAAAAAAAAAAAAAAAAAAAAAAAAAAAAAAAAAAAAAAAAAAAAAAAAAAAAAAAAAAAAAAAAAAAAAAAAAAAAAAAAAAAAAAAAAAAAAAAAAAAAAAAAAAAAAAAAAAAAAAAAAAAAAAAAAAAAAAAAAAAAAAAAAAAAAAAAAAAAAAAAAAAAAAAAAAAAAAAAAAAAAAAAAAAAAAAAAAAAAAAAAAAAAAAAAAAAAAAAAAAAAAAAAAAAAAAAAAAAAAAAAAAAAAAAAAAAAAAAAAAAAAAAAAAAAAAAAAAAAAAAAAAAAAAAAAAAAAAAAAAAAAAAAAAAAAAAAAAAAAAAAAAAAAAAAAAAAAAAAAAAAAAAAAAAAAAAAAAAAAAAAAAAAAAAAAAAAAAAAAAAAAAAAAAAAAAAAAAAAAAAAAAAAAAAAAAAAAAAAAAAAAAAAAAAAAAAAAAAAAAAAAAAAAAAAAAAAAAAAAAAAAAAAAAAAAAAAAAAA=\",\"dtype\":\"float64\",\"order\":\"little\",\"shape\":[94]},\"Player\":[\"Diontae Johnson\",\"Stefon Diggs\",\"Alex Erickson\",\"Julian Edelman\",\"D.K. Metcalf\",\"Cooper Kupp\",\"Randall Cobb\",\"Sammy Watkins\",\"Chester Rogers\",\"Nelson Agholor\",\"Deebo Samuel\",\"Davante Adams\",\"Mecole Hardman\",\"D.J. Moore\",\"Preston Williams\",\"Tyler Boyd\",\"Geronimo Allison\",\"Courtland Sutton\",\"Robby Anderson\",\"John Ross\",\"Michael Thomas\",\"A.J. Brown\",\"Anthony Miller\",\"Will Fuller\",\"James Washington\",\"Corey Davis\",\"JuJu Smith-Schuster\",\"Allen Hurns\",\"Golden Tate\",\"Trey Quinn\",\"Auden Tate\",\"Dede Westbrook\",\"Kenny Golladay\",\"Julio Jones \",\"Larry Fitzgerald\",\"Odell Beckham Jr.\",\"Jaron Brown\",\"Tyler Lockett\",\"Marquise Goodwin\",\"Willie Snead\",\"N'Keal Harry\",\"Kelvin Harmon\",\"JJ Arcega-Whiteside\",\"Demarcus Robinson\",\"Daniel Brown\",\"Andre Patton\",\"Demaryius Thomas\",\"Ted Ginn Jr.\",\"Marquez Valdes-Scantling\",\"Adam Thielen\",\"Taylor Gabriel\",\"Marcus Johnson\",\"Javon Wims\",\"Paul Richardson\",\"Tre'Quan Smith\",\"Taysom Hill\",\"Cody Latimer\",\"Tajae Sharpe\",\"Jarius Wright\",\"Isaiah McKenzie\",\"Miles Boykin\",\"Darius Slayton\",\"Kenny Stills\",\"Zach Pascal\",\"DeAndre Hopkins\",\"Allen Robinson\",\"Robert Woods\",\"Chris Godwin\",\"Jarvis Landry\",\"Amari Cooper\",\"Jamison Crowder\",\"DJ Chark\",\"John Brown\",\"DeVante Parker\",\"Christian Kirk\",\"Cole Beasley\",\"Mike Evans\",\"Michael Gallup\",\"Calvin Ridley\",\"Danny Amendola\",\"Marvin Jones\",\"Tyreek Hill\",\"Terry McLaurin\",\"Sterling Shepard\",\"Curtis Samuel\",\"Mike Williams\",\"Keenan Allen\",\"Chris Conley\",\"Marquise Brown\",\"T.Y. Hilton\",\"Alshon Jeffery\",\"Brandin Cooks\",\"Tyrell Williams\",\"Lee Smith\"]},\"selected\":{\"id\":\"23900\"},\"selection_policy\":{\"id\":\"23917\"}},\"id\":\"23899\",\"type\":\"ColumnDataSource\"},{\"attributes\":{\"fill_alpha\":{\"value\":0.1},\"fill_color\":{\"value\":\"#1f77b3\"},\"line_alpha\":{\"value\":0.1},\"top\":{\"field\":\"Receiving_Touchdowns\"},\"width\":{\"value\":0.8},\"x\":{\"field\":\"Player\"}},\"id\":\"23843\",\"type\":\"VBar\"},{\"attributes\":{\"align\":null,\"below\":[{\"id\":\"23758\"}],\"center\":[{\"id\":\"23760\"},{\"id\":\"23764\"}],\"left\":[{\"id\":\"23761\"}],\"margin\":null,\"min_border_bottom\":10,\"min_border_left\":10,\"min_border_right\":10,\"min_border_top\":10,\"plot_height\":300,\"plot_width\":1000,\"renderers\":[{\"id\":\"23784\"}],\"sizing_mode\":\"fixed\",\"title\":{\"id\":\"23750\"},\"toolbar\":{\"id\":\"23771\"},\"x_range\":{\"id\":\"23686\"},\"x_scale\":{\"id\":\"23754\"},\"y_range\":{\"id\":\"23747\"},\"y_scale\":{\"id\":\"23756\"}},\"id\":\"23749\",\"subtype\":\"Figure\",\"type\":\"Plot\"},{\"attributes\":{\"align\":null,\"below\":[{\"id\":\"23819\"}],\"center\":[{\"id\":\"23821\"},{\"id\":\"23825\"}],\"left\":[{\"id\":\"23822\"}],\"margin\":null,\"min_border_bottom\":10,\"min_border_left\":10,\"min_border_right\":10,\"min_border_top\":10,\"plot_height\":300,\"plot_width\":1000,\"renderers\":[{\"id\":\"23845\"}],\"sizing_mode\":\"fixed\",\"title\":{\"id\":\"23811\"},\"toolbar\":{\"id\":\"23832\"},\"x_range\":{\"id\":\"23686\"},\"x_scale\":{\"id\":\"23815\"},\"y_range\":{\"id\":\"23808\"},\"y_scale\":{\"id\":\"23817\"}},\"id\":\"23810\",\"subtype\":\"Figure\",\"type\":\"Plot\"},{\"attributes\":{},\"id\":\"23754\",\"type\":\"CategoricalScale\"},{\"attributes\":{},\"id\":\"23815\",\"type\":\"CategoricalScale\"},{\"attributes\":{\"factors\":[\"Michael Thomas\",\"DeAndre Hopkins\",\"Keenan Allen\",\"Julian Edelman\",\"Julio Jones \",\"Allen Robinson\",\"Cooper Kupp\",\"Tyler Boyd\",\"Robert Woods\",\"D.J. Moore\",\"Chris Godwin\",\"Jarvis Landry\",\"Davante Adams\",\"Tyler Lockett\",\"Amari Cooper\",\"Jamison Crowder\",\"Larry Fitzgerald\",\"Odell Beckham Jr.\",\"DJ Chark\",\"John Brown\",\"DeVante Parker\",\"Courtland Sutton\",\"Christian Kirk\",\"Mike Evans\",\"Cole Beasley\",\"Michael Gallup\",\"Dede Westbrook\",\"Kenny Golladay\",\"Stefon Diggs\",\"Calvin Ridley\",\"Danny Amendola\",\"Marvin Jones\",\"Diontae Johnson\",\"Tyreek Hill\",\"Terry McLaurin\",\"D.K. Metcalf\",\"Sterling Shepard\",\"Deebo Samuel\",\"Randall Cobb\",\"Curtis Samuel\",\"Robby Anderson\",\"A.J. Brown\",\"Anthony Miller\",\"Sammy Watkins\",\"Will Fuller\",\"Golden Tate\",\"Mike Williams\",\"Darius Slayton\",\"Chris Conley\",\"Marquise Brown\",\"T.Y. Hilton\",\"James Washington\",\"Corey Davis\",\"Alex Erickson\",\"Alshon Jeffery\",\"Brandin Cooks\",\"JuJu Smith-Schuster\",\"Tyrell Williams\",\"Zach Pascal\",\"Auden Tate\",\"Kenny Stills\",\"Nelson Agholor\",\"Demaryius Thomas\",\"Geronimo Allison\",\"Allen Hurns\",\"Demarcus Robinson\",\"Preston Williams\",\"Willie Snead\",\"Ted Ginn Jr.\",\"Kelvin Harmon\",\"Adam Thielen\",\"Taylor Gabriel\",\"Paul Richardson\",\"John Ross\",\"Jarius Wright\",\"Isaiah McKenzie\",\"Mecole Hardman\",\"Trey Quinn\",\"Marquez Valdes-Scantling\",\"Tajae Sharpe\",\"Cody Latimer\",\"Taysom Hill\",\"Javon Wims\",\"Tre'Quan Smith\",\"Marcus Johnson\",\"Jaron Brown\",\"Chester Rogers\",\"Miles Boykin\",\"Marquise Goodwin\",\"N'Keal Harry\",\"JJ Arcega-Whiteside\",\"Daniel Brown\",\"Andre Patton\",\"Lee Smith\"],\"tags\":[[[\"Player\",\"Player\",null]]]},\"id\":\"23686\",\"type\":\"FactorRange\"},{\"attributes\":{},\"id\":\"23886\",\"type\":\"SaveTool\"},{\"attributes\":{\"text\":\"Receiving Yards by Player\",\"text_color\":{\"value\":\"black\"},\"text_font_size\":{\"value\":\"12pt\"}},\"id\":\"23750\",\"type\":\"Title\"},{\"attributes\":{\"text\":\"Receiving Touchdowns by Player\",\"text_color\":{\"value\":\"black\"},\"text_font_size\":{\"value\":\"12pt\"}},\"id\":\"23811\",\"type\":\"Title\"},{\"attributes\":{},\"id\":\"23705\",\"type\":\"SaveTool\"},{\"attributes\":{},\"id\":\"23888\",\"type\":\"WheelZoomTool\"},{\"attributes\":{\"align\":null,\"below\":[{\"id\":\"23879\"}],\"center\":[{\"id\":\"23881\"},{\"id\":\"23885\"}],\"left\":[{\"id\":\"23882\"}],\"margin\":null,\"min_border_bottom\":10,\"min_border_left\":10,\"min_border_right\":10,\"min_border_top\":10,\"plot_height\":300,\"plot_width\":1000,\"renderers\":[{\"id\":\"23905\"}],\"sizing_mode\":\"fixed\",\"title\":{\"id\":\"23871\"},\"toolbar\":{\"id\":\"23892\"},\"x_range\":{\"id\":\"23686\"},\"x_scale\":{\"id\":\"23875\"},\"y_range\":{\"id\":\"23868\"},\"y_scale\":{\"id\":\"23877\"}},\"id\":\"23870\",\"subtype\":\"Figure\",\"type\":\"Plot\"},{\"attributes\":{},\"id\":\"23887\",\"type\":\"PanTool\"},{\"attributes\":{},\"id\":\"23917\",\"type\":\"UnionRenderers\"},{\"attributes\":{},\"id\":\"23756\",\"type\":\"LinearScale\"},{\"attributes\":{},\"id\":\"23817\",\"type\":\"LinearScale\"},{\"attributes\":{\"fill_alpha\":{\"value\":0.1},\"fill_color\":{\"value\":\"#1f77b3\"},\"line_alpha\":{\"value\":0.1},\"top\":{\"field\":\"Receptions\"},\"width\":{\"value\":0.8},\"x\":{\"field\":\"Player\"}},\"id\":\"23722\",\"type\":\"VBar\"},{\"attributes\":{\"overlay\":{\"id\":\"23891\"}},\"id\":\"23889\",\"type\":\"BoxZoomTool\"},{\"attributes\":{},\"id\":\"23908\",\"type\":\"CategoricalTickFormatter\"},{\"attributes\":{\"overlay\":{\"id\":\"23710\"}},\"id\":\"23708\",\"type\":\"BoxZoomTool\"},{\"attributes\":{\"margin\":[5,10,5,10],\"options\":[\"Wide Receiver\",\"Tight Ends\"],\"title\":\"pos\",\"value\":\"Wide Receiver\"},\"id\":\"23675\",\"type\":\"Select\"},{\"attributes\":{},\"id\":\"23706\",\"type\":\"PanTool\"},{\"attributes\":{},\"id\":\"23910\",\"type\":\"BasicTickFormatter\"},{\"attributes\":{\"data_source\":{\"id\":\"23718\"},\"glyph\":{\"id\":\"23721\"},\"hover_glyph\":null,\"muted_glyph\":{\"id\":\"23723\"},\"nonselection_glyph\":{\"id\":\"23722\"},\"selection_glyph\":null,\"view\":{\"id\":\"23725\"}},\"id\":\"23724\",\"type\":\"GlyphRenderer\"},{\"attributes\":{},\"id\":\"23709\",\"type\":\"ResetTool\"},{\"attributes\":{},\"id\":\"23890\",\"type\":\"ResetTool\"},{\"attributes\":{\"axis_label\":\"Player\",\"bounds\":\"auto\",\"formatter\":{\"id\":\"23787\"},\"major_label_orientation\":1.5707963267948966,\"ticker\":{\"id\":\"23759\"}},\"id\":\"23758\",\"type\":\"CategoricalAxis\"},{\"attributes\":{\"axis_label\":\"Player\",\"bounds\":\"auto\",\"formatter\":{\"id\":\"23848\"},\"major_label_orientation\":1.5707963267948966,\"ticker\":{\"id\":\"23820\"}},\"id\":\"23819\",\"type\":\"CategoricalAxis\"},{\"attributes\":{\"children\":[{\"id\":\"23674\"},{\"id\":\"23676\"}],\"margin\":[0,0,0,0],\"name\":\"Column29779\"},\"id\":\"23673\",\"type\":\"Column\"},{\"attributes\":{\"axis\":{\"id\":\"23758\"},\"grid_line_color\":null,\"ticker\":null},\"id\":\"23760\",\"type\":\"Grid\"},{\"attributes\":{\"axis\":{\"id\":\"23819\"},\"grid_line_color\":null,\"ticker\":null},\"id\":\"23821\",\"type\":\"Grid\"},{\"attributes\":{\"axis_label\":\"Receptions\",\"bounds\":\"auto\",\"formatter\":{\"id\":\"23729\"},\"major_label_orientation\":\"horizontal\",\"ticker\":{\"id\":\"23702\"}},\"id\":\"23701\",\"type\":\"LinearAxis\"},{\"attributes\":{\"end\":12.1,\"reset_end\":12.1,\"reset_start\":0.0,\"tags\":[[[\"Receiving Touchdowns\",\"Receiving Touchdowns\",null]]]},\"id\":\"23808\",\"type\":\"Range1d\"},{\"attributes\":{},\"id\":\"23759\",\"type\":\"CategoricalTicker\"},{\"attributes\":{},\"id\":\"23820\",\"type\":\"CategoricalTicker\"},{\"attributes\":{\"axis_label\":\"Receiving Yards\",\"bounds\":\"auto\",\"formatter\":{\"id\":\"23789\"},\"major_label_orientation\":\"horizontal\",\"ticker\":{\"id\":\"23762\"}},\"id\":\"23761\",\"type\":\"LinearAxis\"},{\"attributes\":{\"axis_label\":\"Receiving Touchdowns\",\"bounds\":\"auto\",\"formatter\":{\"id\":\"23850\"},\"major_label_orientation\":\"horizontal\",\"ticker\":{\"id\":\"23823\"}},\"id\":\"23822\",\"type\":\"LinearAxis\"},{\"attributes\":{\"children\":[{\"id\":\"23675\"}],\"margin\":[0,0,0,0],\"name\":\"Column30109\"},\"id\":\"23674\",\"type\":\"Column\"},{\"attributes\":{\"axis\":{\"id\":\"23701\"},\"dimension\":1,\"grid_line_color\":null,\"ticker\":null},\"id\":\"23704\",\"type\":\"Grid\"},{\"attributes\":{\"children\":[{\"id\":\"23678\"},{\"id\":\"23683\"}],\"margin\":[0,0,0,0],\"name\":\"Column29786\"},\"id\":\"23677\",\"type\":\"Column\"},{\"attributes\":{},\"id\":\"23762\",\"type\":\"BasicTicker\"},{\"attributes\":{\"callback\":null,\"renderers\":[{\"id\":\"23845\"}],\"tags\":[\"hv_created\"],\"tooltips\":[[\"Player\",\"@{Player}\"],[\"Receiving Touchdowns\",\"@{Receiving_Touchdowns}\"]]},\"id\":\"23809\",\"type\":\"HoverTool\"},{\"attributes\":{},\"id\":\"23823\",\"type\":\"BasicTicker\"},{\"attributes\":{\"axis\":{\"id\":\"23761\"},\"dimension\":1,\"grid_line_color\":null,\"ticker\":null},\"id\":\"23764\",\"type\":\"Grid\"},{\"attributes\":{\"axis\":{\"id\":\"23822\"},\"dimension\":1,\"grid_line_color\":null,\"ticker\":null},\"id\":\"23825\",\"type\":\"Grid\"},{\"attributes\":{},\"id\":\"23702\",\"type\":\"BasicTicker\"},{\"attributes\":{\"children\":[{\"id\":\"23685\"},{\"id\":\"23806\"}],\"margin\":[0,0,0,0],\"name\":\"Row30105\"},\"id\":\"23684\",\"type\":\"Row\"},{\"attributes\":{\"end\":5.5,\"reset_end\":5.5,\"reset_start\":0.0,\"tags\":[[[\"Fumbles\",\"Fumbles\",null]]]},\"id\":\"23868\",\"type\":\"Range1d\"},{\"attributes\":{\"end\":2500,\"format\":\"0[.]00\",\"margin\":[5,10,5,10],\"start\":0,\"title\":\"Receptions Yards\",\"value\":[0,2500]},\"id\":\"23680\",\"type\":\"RangeSlider\"},{\"attributes\":{\"children\":[{\"id\":\"23684\"}],\"margin\":[0,0,0,0],\"name\":\"Row30106\"},\"id\":\"23683\",\"type\":\"Row\"},{\"attributes\":{},\"id\":\"23765\",\"type\":\"SaveTool\"},{\"attributes\":{},\"id\":\"23767\",\"type\":\"WheelZoomTool\"},{\"attributes\":{},\"id\":\"23766\",\"type\":\"PanTool\"},{\"attributes\":{\"overlay\":{\"id\":\"23770\"}},\"id\":\"23768\",\"type\":\"BoxZoomTool\"},{\"attributes\":{\"children\":[{\"id\":\"23679\"},{\"id\":\"23680\"},{\"id\":\"23681\"},{\"id\":\"23682\"}],\"margin\":[0,0,0,0],\"name\":\"Column30107\"},\"id\":\"23678\",\"type\":\"Column\"},{\"attributes\":{\"align\":null,\"below\":[{\"id\":\"23698\"}],\"center\":[{\"id\":\"23700\"},{\"id\":\"23704\"}],\"left\":[{\"id\":\"23701\"}],\"margin\":null,\"min_border_bottom\":10,\"min_border_left\":10,\"min_border_right\":10,\"min_border_top\":10,\"plot_height\":300,\"plot_width\":1000,\"renderers\":[{\"id\":\"23724\"}],\"sizing_mode\":\"fixed\",\"title\":{\"id\":\"23690\"},\"toolbar\":{\"id\":\"23711\"},\"x_range\":{\"id\":\"23686\"},\"x_scale\":{\"id\":\"23694\"},\"y_range\":{\"id\":\"23687\"},\"y_scale\":{\"id\":\"23696\"}},\"id\":\"23689\",\"subtype\":\"Figure\",\"type\":\"Plot\"},{\"attributes\":{},\"id\":\"23769\",\"type\":\"ResetTool\"},{\"attributes\":{},\"id\":\"23694\",\"type\":\"CategoricalScale\"},{\"attributes\":{},\"id\":\"23696\",\"type\":\"LinearScale\"},{\"attributes\":{\"axis_label\":\"Player\",\"bounds\":\"auto\",\"formatter\":{\"id\":\"23727\"},\"major_label_orientation\":1.5707963267948966,\"ticker\":{\"id\":\"23699\"}},\"id\":\"23698\",\"type\":\"CategoricalAxis\"},{\"attributes\":{\"end\":200,\"format\":\"0[.]00\",\"margin\":[5,10,5,10],\"start\":0,\"title\":\"Receptions\",\"value\":[0,200]},\"id\":\"23679\",\"type\":\"RangeSlider\"},{\"attributes\":{\"axis\":{\"id\":\"23698\"},\"grid_line_color\":null,\"ticker\":null},\"id\":\"23700\",\"type\":\"Grid\"},{\"attributes\":{},\"id\":\"23699\",\"type\":\"CategoricalTicker\"},{\"attributes\":{},\"id\":\"23850\",\"type\":\"BasicTickFormatter\"},{\"attributes\":{\"bottom_units\":\"screen\",\"fill_alpha\":0.5,\"fill_color\":\"lightgrey\",\"left_units\":\"screen\",\"level\":\"overlay\",\"line_alpha\":1.0,\"line_color\":\"black\",\"line_dash\":[4,4],\"line_width\":2,\"right_units\":\"screen\",\"top_units\":\"screen\"},\"id\":\"23770\",\"type\":\"BoxAnnotation\"},{\"attributes\":{},\"id\":\"23787\",\"type\":\"CategoricalTickFormatter\"},{\"attributes\":{},\"id\":\"23848\",\"type\":\"CategoricalTickFormatter\"},{\"attributes\":{},\"id\":\"23857\",\"type\":\"UnionRenderers\"},{\"attributes\":{},\"id\":\"23789\",\"type\":\"BasicTickFormatter\"},{\"attributes\":{},\"id\":\"23727\",\"type\":\"CategoricalTickFormatter\"},{\"attributes\":{\"end\":1894.4,\"reset_end\":1894.4,\"reset_start\":0.0,\"tags\":[[[\"Receiving Yards\",\"Receiving Yards\",null]]]},\"id\":\"23747\",\"type\":\"Range1d\"},{\"attributes\":{\"end\":25,\"format\":\"0[.]00\",\"margin\":[5,10,5,10],\"start\":0,\"title\":\"Receiving Touchdowns\",\"value\":[0,25]},\"id\":\"23681\",\"type\":\"RangeSlider\"},{\"attributes\":{\"callback\":null,\"renderers\":[{\"id\":\"23784\"}],\"tags\":[\"hv_created\"],\"tooltips\":[[\"Player\",\"@{Player}\"],[\"Receiving Yards\",\"@{Receiving_Yards}\"]]},\"id\":\"23748\",\"type\":\"HoverTool\"}],\"root_ids\":[\"23673\",\"24023\"]},\"title\":\"Bokeh Application\",\"version\":\"2.1.1\"}};\n",
       "  var render_items = [{\"docid\":\"bb55c883-090f-4b74-971b-501fe6e4314a\",\"root_ids\":[\"23673\"],\"roots\":{\"23673\":\"38b8cd90-e726-432f-a5e0-50eb59bb4da2\"}}];\n",
       "  root.Bokeh.embed.embed_items_notebook(docs_json, render_items);\n",
       "  }\n",
       "if (root.Bokeh !== undefined) {\n",
       "    embed_document(root);\n",
       "  } else {\n",
       "    var attempts = 0;\n",
       "    var timer = setInterval(function(root) {\n",
       "      if (root.Bokeh !== undefined) {\n",
       "        clearInterval(timer);\n",
       "        embed_document(root);\n",
       "      } else if (document.readyState == \"complete\") {\n",
       "        attempts++;\n",
       "        if (attempts > 100) {\n",
       "          clearInterval(timer);\n",
       "          console.log(\"Bokeh: ERROR: Unable to run BokehJS code because BokehJS library is missing\");\n",
       "        }\n",
       "      }\n",
       "    }, 10, root)\n",
       "  }\n",
       "})(window);</script>"
      ],
      "text/plain": [
       "Column\n",
       "    [0] Column\n",
       "        [0] Select(name='pos', options=['Wide Receiver', ...], value='Wide Receiver')\n",
       "    [1] Row\n",
       "        [0] Column\n",
       "            [0] Column\n",
       "                [0] RangeSlider(end=200, name='Receptions', step=1, value=(0, 200))\n",
       "                [1] RangeSlider(end=2500, name='Receptions Yards', step=1, value=(0, 2500))\n",
       "                [2] RangeSlider(end=25, name='Receiving Touchdowns', step=1, value=(0, 25))\n",
       "                [3] RangeSlider(end=15, name='# of Fumbles', step=1, value=(0, 15))\n",
       "            [1] Row\n",
       "                [0] Row\n",
       "                    [0] Column\n",
       "                        [0] HoloViews(Bars)\n",
       "                        [1] HoloViews(Bars)\n",
       "                    [1] Column\n",
       "                        [0] HoloViews(Bars)\n",
       "                        [1] HoloViews(Bars)"
      ]
     },
     "execution_count": 82,
     "metadata": {
      "application/vnd.holoviews_exec.v0+json": {
       "id": "23673"
      }
     },
     "output_type": "execute_result"
    }
   ],
   "source": [
    "def position(pos):\n",
    "\n",
    "# Insert Position Paramaters here\n",
    "\n",
    "    if pos == \"Wide Receiver\": return pn.interact(wide_receivers,\n",
    "       wrRec = pn.widgets.RangeSlider(name = \"Receptions\", start = 0, end = 200),\n",
    "       wrYds = pn.widgets.RangeSlider(name = \"Receptions Yards\", start = 0, end = 2500),\n",
    "       wrTDs = pn.widgets.RangeSlider(name = \"Receiving Touchdowns\", start = 0, end = 25),\n",
    "       wrFum = pn.widgets.RangeSlider(name = \"# of Fumbles\", start = 0, end = 15))\n",
    "    \n",
    "    if pos == \"Tight Ends\": return pn.interact(tight_ends,\n",
    "       teRec = pn.widgets.RangeSlider(name = \"Receptions\", start = 0, end = 150),\n",
    "       teYds = pn.widgets.RangeSlider(name = \"Receptions Yards\", start = 0, end = 2000),\n",
    "       teTDs = pn.widgets.RangeSlider(name = \"Receiving Touchdowns\", start = 0, end = 25),\n",
    "       teFum = pn.widgets.RangeSlider(name = \"# of Fumbles\", start = 0, end = 15))\n",
    "\n",
    "pn.interact(position, pos=['Wide Receiver', \"Tight Ends\"])"
   ]
  },
  {
   "cell_type": "code",
   "execution_count": null,
   "metadata": {},
   "outputs": [],
   "source": []
  }
 ],
 "metadata": {
  "kernelspec": {
   "display_name": "Python [conda env:pyvizenv] *",
   "language": "python",
   "name": "conda-env-pyvizenv-py"
  },
  "language_info": {
   "codemirror_mode": {
    "name": "ipython",
    "version": 3
   },
   "file_extension": ".py",
   "mimetype": "text/x-python",
   "name": "python",
   "nbconvert_exporter": "python",
   "pygments_lexer": "ipython3",
   "version": "3.7.7"
  }
 },
 "nbformat": 4,
 "nbformat_minor": 4
}
