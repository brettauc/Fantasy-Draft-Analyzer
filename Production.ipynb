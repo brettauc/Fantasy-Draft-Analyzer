{
 "cells": [
  {
   "cell_type": "code",
   "execution_count": 5,
   "metadata": {},
   "outputs": [
    {
     "name": "stderr",
     "output_type": "stream",
     "text": [
      "WARNING:param.panel_extension: A HoloViz extension was loaded previously. This means the extension is already initialized and the following Panel extensions could not be properly loaded: ['plotly']. If you are loading custom extensions with pn.extension(...) ensure that this is called before any other HoloViz extension such as hvPlot or HoloViews.\n"
     ]
    }
   ],
   "source": [
    "# initial imports\n",
    "import pandas as pd\n",
    "import numpy as np\n",
    "import panel as pn\n",
    "import hvplot.pandas\n",
    "from panel.interact import interact\n",
    "import plotly.express as px\n",
    "pn.extension(\"plotly\")"
   ]
  },
  {
   "cell_type": "code",
   "execution_count": 11,
   "metadata": {},
   "outputs": [
    {
     "data": {
      "application/vnd.holoviews_exec.v0+json": "",
      "text/html": [
       "<div id='1001'>\n",
       "\n",
       "\n",
       "\n",
       "\n",
       "\n",
       "  <div class=\"bk-root\" id=\"b1b7d8fb-45f4-4af5-b156-78956a129a98\" data-root-id=\"1001\"></div>\n",
       "</div>\n",
       "<script type=\"application/javascript\">(function(root) {\n",
       "  function embed_document(root) {\n",
       "  var docs_json = {\"95be1778-745c-4cbd-a1c3-95064a1cec23\":{\"roots\":{\"references\":[{\"attributes\":{\"align\":null,\"below\":[{\"id\":\"1024\"}],\"center\":[{\"id\":\"1026\"},{\"id\":\"1030\"}],\"left\":[{\"id\":\"1027\"}],\"margin\":null,\"min_border_bottom\":10,\"min_border_left\":10,\"min_border_right\":10,\"min_border_top\":10,\"plot_height\":300,\"plot_width\":1000,\"renderers\":[{\"id\":\"1050\"}],\"sizing_mode\":\"fixed\",\"title\":{\"id\":\"1016\"},\"toolbar\":{\"id\":\"1037\"},\"x_range\":{\"id\":\"1012\"},\"x_scale\":{\"id\":\"1020\"},\"y_range\":{\"id\":\"1013\"},\"y_scale\":{\"id\":\"1022\"}},\"id\":\"1015\",\"subtype\":\"Figure\",\"type\":\"Plot\"},{\"attributes\":{\"align\":null,\"below\":[{\"id\":\"1084\"}],\"center\":[{\"id\":\"1086\"},{\"id\":\"1090\"}],\"left\":[{\"id\":\"1087\"}],\"margin\":null,\"min_border_bottom\":10,\"min_border_left\":10,\"min_border_right\":10,\"min_border_top\":10,\"plot_height\":300,\"plot_width\":1000,\"renderers\":[{\"id\":\"1110\"}],\"sizing_mode\":\"fixed\",\"title\":{\"id\":\"1076\"},\"toolbar\":{\"id\":\"1097\"},\"x_range\":{\"id\":\"1012\"},\"x_scale\":{\"id\":\"1080\"},\"y_range\":{\"id\":\"1073\"},\"y_scale\":{\"id\":\"1082\"}},\"id\":\"1075\",\"subtype\":\"Figure\",\"type\":\"Plot\"},{\"attributes\":{\"data_source\":{\"id\":\"1104\"},\"glyph\":{\"id\":\"1107\"},\"hover_glyph\":null,\"muted_glyph\":{\"id\":\"1109\"},\"nonselection_glyph\":{\"id\":\"1108\"},\"selection_glyph\":null,\"view\":{\"id\":\"1111\"}},\"id\":\"1110\",\"type\":\"GlyphRenderer\"},{\"attributes\":{},\"id\":\"1055\",\"type\":\"BasicTickFormatter\"},{\"attributes\":{},\"id\":\"1080\",\"type\":\"CategoricalScale\"},{\"attributes\":{\"source\":{\"id\":\"1164\"}},\"id\":\"1171\",\"type\":\"CDSView\"},{\"attributes\":{},\"id\":\"1165\",\"type\":\"Selection\"},{\"attributes\":{},\"id\":\"1032\",\"type\":\"PanTool\"},{\"attributes\":{\"text\":\"FGM 0-49 Yds by Player\",\"text_color\":{\"value\":\"black\"},\"text_font_size\":{\"value\":\"12pt\"}},\"id\":\"1076\",\"type\":\"Title\"},{\"attributes\":{\"fill_alpha\":{\"value\":0.1},\"fill_color\":{\"value\":\"#1f77b3\"},\"line_alpha\":{\"value\":0.1},\"top\":{\"field\":\"Extra_Points_Made\"},\"width\":{\"value\":0.8},\"x\":{\"field\":\"Player\"}},\"id\":\"1048\",\"type\":\"VBar\"},{\"attributes\":{},\"id\":\"1152\",\"type\":\"PanTool\"},{\"attributes\":{\"callback\":null,\"renderers\":[{\"id\":\"1110\"}],\"tags\":[\"hv_created\"],\"tooltips\":[[\"Player\",\"@{Player}\"],[\"FGM 0-49\",\"@{FGM_0_hyphen_minus_49}\"]]},\"id\":\"1074\",\"type\":\"HoverTool\"},{\"attributes\":{\"fill_alpha\":{\"value\":0.1},\"fill_color\":{\"value\":\"#1f77b3\"},\"line_alpha\":{\"value\":0.1},\"top\":{\"field\":\"FGM_50_plus\"},\"width\":{\"value\":0.8},\"x\":{\"field\":\"Player\"}},\"id\":\"1168\",\"type\":\"VBar\"},{\"attributes\":{},\"id\":\"1173\",\"type\":\"CategoricalTickFormatter\"},{\"attributes\":{\"active_drag\":\"auto\",\"active_inspect\":\"auto\",\"active_multi\":null,\"active_scroll\":\"auto\",\"active_tap\":\"auto\",\"tools\":[{\"id\":\"1014\"},{\"id\":\"1031\"},{\"id\":\"1032\"},{\"id\":\"1033\"},{\"id\":\"1034\"},{\"id\":\"1035\"}]},\"id\":\"1037\",\"type\":\"Toolbar\"},{\"attributes\":{},\"id\":\"1082\",\"type\":\"LinearScale\"},{\"attributes\":{},\"id\":\"1062\",\"type\":\"UnionRenderers\"},{\"attributes\":{\"end\":34.1,\"reset_end\":34.1,\"reset_start\":0.0,\"tags\":[[[\"FGM 0-49\",\"FGM 0-49\",null]]]},\"id\":\"1073\",\"type\":\"Range1d\"},{\"attributes\":{\"fill_color\":{\"value\":\"#1f77b3\"},\"top\":{\"field\":\"FGM_0_hyphen_minus_49\"},\"width\":{\"value\":0.8},\"x\":{\"field\":\"Player\"}},\"id\":\"1107\",\"type\":\"VBar\"},{\"attributes\":{},\"id\":\"1182\",\"type\":\"UnionRenderers\"},{\"attributes\":{\"end\":50,\"format\":\"0[.]00\",\"margin\":[5,10,5,10],\"start\":0,\"title\":\"PATs Made\",\"value\":[0,50]},\"id\":\"1007\",\"type\":\"RangeSlider\"},{\"attributes\":{\"text\":\"PATs by Player\",\"text_color\":{\"value\":\"black\"},\"text_font_size\":{\"value\":\"12pt\"}},\"id\":\"1016\",\"type\":\"Title\"},{\"attributes\":{\"axis_label\":\"Player\",\"bounds\":\"auto\",\"formatter\":{\"id\":\"1113\"},\"major_label_orientation\":1.5707963267948966,\"ticker\":{\"id\":\"1085\"}},\"id\":\"1084\",\"type\":\"CategoricalAxis\"},{\"attributes\":{\"callback\":null,\"renderers\":[{\"id\":\"1170\"}],\"tags\":[\"hv_created\"],\"tooltips\":[[\"Player\",\"@{Player}\"],[\"FGM 50+\",\"@{FGM_50_plus}\"]]},\"id\":\"1134\",\"type\":\"HoverTool\"},{\"attributes\":{\"children\":[{\"id\":\"1007\"},{\"id\":\"1008\"},{\"id\":\"1009\"}],\"margin\":[0,0,0,0],\"name\":\"Column01745\"},\"id\":\"1006\",\"type\":\"Column\"},{\"attributes\":{\"fill_alpha\":{\"value\":0.2},\"fill_color\":{\"value\":\"#1f77b3\"},\"line_alpha\":{\"value\":0.2},\"top\":{\"field\":\"FGM_50_plus\"},\"width\":{\"value\":0.8},\"x\":{\"field\":\"Player\"}},\"id\":\"1169\",\"type\":\"VBar\"},{\"attributes\":{\"axis\":{\"id\":\"1084\"},\"grid_line_color\":null,\"ticker\":null},\"id\":\"1086\",\"type\":\"Grid\"},{\"attributes\":{\"fill_alpha\":{\"value\":0.2},\"fill_color\":{\"value\":\"#1f77b3\"},\"line_alpha\":{\"value\":0.2},\"top\":{\"field\":\"FGM_0_hyphen_minus_49\"},\"width\":{\"value\":0.8},\"x\":{\"field\":\"Player\"}},\"id\":\"1109\",\"type\":\"VBar\"},{\"attributes\":{\"children\":[{\"id\":\"1015\"},{\"id\":\"1075\"},{\"id\":\"1135\"}],\"margin\":[0,0,0,0],\"name\":\"Column01743\"},\"id\":\"1011\",\"type\":\"Column\"},{\"attributes\":{},\"id\":\"1153\",\"type\":\"WheelZoomTool\"},{\"attributes\":{},\"id\":\"1085\",\"type\":\"CategoricalTicker\"},{\"attributes\":{\"fill_alpha\":{\"value\":0.1},\"fill_color\":{\"value\":\"#1f77b3\"},\"line_alpha\":{\"value\":0.1},\"top\":{\"field\":\"FGM_0_hyphen_minus_49\"},\"width\":{\"value\":0.8},\"x\":{\"field\":\"Player\"}},\"id\":\"1108\",\"type\":\"VBar\"},{\"attributes\":{\"axis_label\":\"FGM 0-49\",\"bounds\":\"auto\",\"formatter\":{\"id\":\"1115\"},\"major_label_orientation\":\"horizontal\",\"ticker\":{\"id\":\"1088\"}},\"id\":\"1087\",\"type\":\"LinearAxis\"},{\"attributes\":{\"axis_label\":\"FGM 50+\",\"bounds\":\"auto\",\"formatter\":{\"id\":\"1175\"},\"major_label_orientation\":\"horizontal\",\"ticker\":{\"id\":\"1148\"}},\"id\":\"1147\",\"type\":\"LinearAxis\"},{\"attributes\":{\"children\":[{\"id\":\"1005\"}],\"margin\":[0,0,0,0],\"name\":\"Row01746\"},\"id\":\"1004\",\"type\":\"Row\"},{\"attributes\":{},\"id\":\"1045\",\"type\":\"Selection\"},{\"attributes\":{\"factors\":[\"Wil Lutz\",\"Harrison Butker\",\"Matt Gay\",\"Greg Zuerlein\",\"Robbie Gould\",\"Mason Crosby\",\"Ka'imi Fairbairn\",\"Dan Bailey\",\"Jason Myers\",\"Brett Maher\",\"Aldrick Rosas\",\"Matt Prater\",\"Jake Elliott\",\"Daniel Carlson\",\"Zane Gonzalez\",\"Joey Slye\",\"Austin Seibert\",\"Stephen Hauschka\",\"Jason Sanders\",\"Chris Boswell\",\"Eddy Pineiro\",\"Chase McLaughlin\",\"Brandon McManus\",\"Ryan Succop\",\"Randy Bullock\",\"Sam Ficken\",\"Adam Vinatieri\",\"Dustin Hopkins\",\"Michael Badgley\",\"Josh Lambo\",\"Younghoe Koo\",\"Mike Nugent\",\"Matt Bryant\",\"Nick Folk\",\"Cairo Santos\",\"Kai Forbath\",\"Stephen Gostkowski\",\"Greg Joseph\",\"Ty Long\",\"Cody Parkey\",\"Lac Edwards\",\"Jamie Gillan\",\"Andy Lee\",\"Thomas Morstead\",\"Rigoberto Sanchez\",\"Bradley Pinion\",\"Mitch Wishnowsky\",\"Chris Jones\",\"Dustin Colquitt\",\"Bryan Anger\",\"Sam Koch\",\"Ryan Allen\",\"Trevor Daniel\",\"Matthew Bosher\",\"Kasey Redfern\",\"Matt Wile\",\"Ryan Winslow\",\"Britton Colquitt\",\"Johnny Hekker\",\"Jake Bailey\",\"Kaare Vedvik\",\"Pat O'Donnell\",\"Corey Bojorquez\",\"Tress Way\",\"Brett Kern\",\"Colby Wadman\",\"JK Scott\",\"Sam Martin\",\"Logan Cooke\",\"Kevin Huber\",\"Michael Palardy\",\"Jordan Berry\",\"Michael Dickson\",\"Cameron Johnston\",\"Riley Dixon\",\"Matt Haack\",\"A.J. Cole\"],\"tags\":[[[\"Player\",\"Player\",null]]]},\"id\":\"1012\",\"type\":\"FactorRange\"},{\"attributes\":{\"source\":{\"id\":\"1104\"}},\"id\":\"1111\",\"type\":\"CDSView\"},{\"attributes\":{\"overlay\":{\"id\":\"1156\"}},\"id\":\"1154\",\"type\":\"BoxZoomTool\"},{\"attributes\":{\"callback\":null,\"renderers\":[{\"id\":\"1050\"}],\"tags\":[\"hv_created\"],\"tooltips\":[[\"Player\",\"@{Player}\"],[\"Extra Points Made\",\"@{Extra_Points_Made}\"]]},\"id\":\"1014\",\"type\":\"HoverTool\"},{\"attributes\":{},\"id\":\"1088\",\"type\":\"BasicTicker\"},{\"attributes\":{\"axis\":{\"id\":\"1087\"},\"dimension\":1,\"grid_line_color\":null,\"ticker\":null},\"id\":\"1090\",\"type\":\"Grid\"},{\"attributes\":{\"fill_color\":{\"value\":\"#1f77b3\"},\"top\":{\"field\":\"FGM_50_plus\"},\"width\":{\"value\":0.8},\"x\":{\"field\":\"Player\"}},\"id\":\"1167\",\"type\":\"VBar\"},{\"attributes\":{\"bottom_units\":\"screen\",\"fill_alpha\":0.5,\"fill_color\":\"lightgrey\",\"left_units\":\"screen\",\"level\":\"overlay\",\"line_alpha\":1.0,\"line_color\":\"black\",\"line_dash\":[4,4],\"line_width\":2,\"right_units\":\"screen\",\"top_units\":\"screen\"},\"id\":\"1036\",\"type\":\"BoxAnnotation\"},{\"attributes\":{\"data_source\":{\"id\":\"1164\"},\"glyph\":{\"id\":\"1167\"},\"hover_glyph\":null,\"muted_glyph\":{\"id\":\"1169\"},\"nonselection_glyph\":{\"id\":\"1168\"},\"selection_glyph\":null,\"view\":{\"id\":\"1171\"}},\"id\":\"1170\",\"type\":\"GlyphRenderer\"},{\"attributes\":{},\"id\":\"1151\",\"type\":\"SaveTool\"},{\"attributes\":{\"children\":[{\"id\":\"1011\"}],\"margin\":[0,0,0,0],\"name\":\"Row01744\"},\"id\":\"1010\",\"type\":\"Row\"},{\"attributes\":{\"end\":50,\"format\":\"0[.]00\",\"margin\":[5,10,5,10],\"start\":0,\"title\":\"FGM 0-49 Yards\",\"value\":[0,50]},\"id\":\"1008\",\"type\":\"RangeSlider\"},{\"attributes\":{\"axis\":{\"id\":\"1147\"},\"dimension\":1,\"grid_line_color\":null,\"ticker\":null},\"id\":\"1150\",\"type\":\"Grid\"},{\"attributes\":{\"axis\":{\"id\":\"1024\"},\"grid_line_color\":null,\"ticker\":null},\"id\":\"1026\",\"type\":\"Grid\"},{\"attributes\":{},\"id\":\"1105\",\"type\":\"Selection\"},{\"attributes\":{\"data_source\":{\"id\":\"1044\"},\"glyph\":{\"id\":\"1047\"},\"hover_glyph\":null,\"muted_glyph\":{\"id\":\"1049\"},\"nonselection_glyph\":{\"id\":\"1048\"},\"selection_glyph\":null,\"view\":{\"id\":\"1051\"}},\"id\":\"1050\",\"type\":\"GlyphRenderer\"},{\"attributes\":{},\"id\":\"1025\",\"type\":\"CategoricalTicker\"},{\"attributes\":{},\"id\":\"1035\",\"type\":\"ResetTool\"},{\"attributes\":{\"end\":50,\"format\":\"0[.]00\",\"margin\":[5,10,5,10],\"start\":0,\"title\":\"FGM 50+ Yards\",\"value\":[0,50]},\"id\":\"1009\",\"type\":\"RangeSlider\"},{\"attributes\":{},\"id\":\"1175\",\"type\":\"BasicTickFormatter\"},{\"attributes\":{},\"id\":\"1148\",\"type\":\"BasicTicker\"},{\"attributes\":{},\"id\":\"1091\",\"type\":\"SaveTool\"},{\"attributes\":{},\"id\":\"1145\",\"type\":\"CategoricalTicker\"},{\"attributes\":{\"axis\":{\"id\":\"1027\"},\"dimension\":1,\"grid_line_color\":null,\"ticker\":null},\"id\":\"1030\",\"type\":\"Grid\"},{\"attributes\":{},\"id\":\"1142\",\"type\":\"LinearScale\"},{\"attributes\":{},\"id\":\"1093\",\"type\":\"WheelZoomTool\"},{\"attributes\":{},\"id\":\"1092\",\"type\":\"PanTool\"},{\"attributes\":{\"align\":null,\"below\":[{\"id\":\"1144\"}],\"center\":[{\"id\":\"1146\"},{\"id\":\"1150\"}],\"left\":[{\"id\":\"1147\"}],\"margin\":null,\"min_border_bottom\":10,\"min_border_left\":10,\"min_border_right\":10,\"min_border_top\":10,\"plot_height\":300,\"plot_width\":1000,\"renderers\":[{\"id\":\"1170\"}],\"sizing_mode\":\"fixed\",\"title\":{\"id\":\"1136\"},\"toolbar\":{\"id\":\"1157\"},\"x_range\":{\"id\":\"1012\"},\"x_scale\":{\"id\":\"1140\"},\"y_range\":{\"id\":\"1133\"},\"y_scale\":{\"id\":\"1142\"}},\"id\":\"1135\",\"subtype\":\"Figure\",\"type\":\"Plot\"},{\"attributes\":{\"overlay\":{\"id\":\"1096\"}},\"id\":\"1094\",\"type\":\"BoxZoomTool\"},{\"attributes\":{\"active_drag\":\"auto\",\"active_inspect\":\"auto\",\"active_multi\":null,\"active_scroll\":\"auto\",\"active_tap\":\"auto\",\"tools\":[{\"id\":\"1134\"},{\"id\":\"1151\"},{\"id\":\"1152\"},{\"id\":\"1153\"},{\"id\":\"1154\"},{\"id\":\"1155\"}]},\"id\":\"1157\",\"type\":\"Toolbar\"},{\"attributes\":{\"children\":[{\"id\":\"1006\"},{\"id\":\"1010\"}],\"margin\":[0,0,0,0],\"name\":\"Column01505\"},\"id\":\"1005\",\"type\":\"Column\"},{\"attributes\":{\"axis_label\":\"Player\",\"bounds\":\"auto\",\"formatter\":{\"id\":\"1173\"},\"major_label_orientation\":1.5707963267948966,\"ticker\":{\"id\":\"1145\"}},\"id\":\"1144\",\"type\":\"CategoricalAxis\"},{\"attributes\":{\"bottom_units\":\"screen\",\"fill_alpha\":0.5,\"fill_color\":\"lightgrey\",\"left_units\":\"screen\",\"level\":\"overlay\",\"line_alpha\":1.0,\"line_color\":\"black\",\"line_dash\":[4,4],\"line_width\":2,\"right_units\":\"screen\",\"top_units\":\"screen\"},\"id\":\"1156\",\"type\":\"BoxAnnotation\"},{\"attributes\":{\"children\":[{\"id\":\"1003\"}],\"margin\":[0,0,0,0],\"name\":\"Column01747\"},\"id\":\"1002\",\"type\":\"Column\"},{\"attributes\":{},\"id\":\"1113\",\"type\":\"CategoricalTickFormatter\"},{\"attributes\":{},\"id\":\"1115\",\"type\":\"BasicTickFormatter\"},{\"attributes\":{},\"id\":\"1095\",\"type\":\"ResetTool\"},{\"attributes\":{\"axis\":{\"id\":\"1144\"},\"grid_line_color\":null,\"ticker\":null},\"id\":\"1146\",\"type\":\"Grid\"},{\"attributes\":{\"children\":[{\"id\":\"1002\"},{\"id\":\"1004\"}],\"margin\":[0,0,0,0],\"name\":\"Column01499\"},\"id\":\"1001\",\"type\":\"Column\"},{\"attributes\":{\"text\":\"FGM 50+ Yds by Player\",\"text_color\":{\"value\":\"black\"},\"text_font_size\":{\"value\":\"12pt\"}},\"id\":\"1136\",\"type\":\"Title\"},{\"attributes\":{\"client_comm_id\":\"919c431c86d24d18b940b0fe959c2985\",\"comm_id\":\"5dfc0d876f86450ab4c579f1b41725d3\",\"plot_id\":\"1001\"},\"id\":\"1264\",\"type\":\"panel.models.comm_manager.CommManager\"},{\"attributes\":{\"end\":52.8,\"reset_end\":52.8,\"reset_start\":0.0,\"tags\":[[[\"Extra Points Made\",\"Extra Points Made\",null]]]},\"id\":\"1013\",\"type\":\"Range1d\"},{\"attributes\":{\"data\":{\"Extra_Points_Made\":{\"__ndarray__\":\"AAAAAAAASEAAAAAAAIBGQAAAAAAAgEVAAAAAAAAARUAAAAAAAIBEQAAAAAAAAERAAAAAAAAAREAAAAAAAABEQAAAAAAAAERAAAAAAAAAQkAAAAAAAIBBQAAAAAAAgEFAAAAAAACAQUAAAAAAAABBQAAAAAAAAEFAAAAAAAAAP0AAAAAAAAA+QAAAAAAAAD5AAAAAAAAAPUAAAAAAAAA8QAAAAAAAADtAAAAAAAAAOkAAAAAAAAA5QAAAAAAAADhAAAAAAAAAOEAAAAAAAAA3QAAAAAAAADZAAAAAAAAANUAAAAAAAAAzQAAAAAAAADNAAAAAAAAALkAAAAAAAAAuQAAAAAAAACxAAAAAAAAAKEAAAAAAAAAoQAAAAAAAACZAAAAAAAAAJkAAAAAAAAAiQAAAAAAAACJAAAAAAAAAFEAAAAAAAAAAAAAAAAAAAAAAAAAAAAAAAAAAAAAAAAAAAAAAAAAAAAAAAAAAAAAAAAAAAAAAAAAAAAAAAAAAAAAAAAAAAAAAAAAAAAAAAAAAAAAAAAAAAAAAAAAAAAAAAAAAAAAAAAAAAAAAAAAAAAAAAAAAAAAAAAAAAAAAAAAAAAAAAAAAAAAAAAAAAAAAAAAAAAAAAAAAAAAAAAAAAAAAAAAAAAAAAAAAAAAAAAAAAAAAAAAAAAAAAAAAAAAAAAAAAAAAAAAAAAAAAAAAAAAAAAAAAAAAAAAAAAAAAAAAAAAAAAAAAAAAAAAAAAAAAAAAAAAAAAAAAAAAAAAAAAAAAAAAAAAAAAAAAAAAAAAAAAAAAAAAAAAAAAAAAAAAAAAAAAAAAAAAAA==\",\"dtype\":\"float64\",\"order\":\"little\",\"shape\":[77]},\"Player\":[\"Wil Lutz\",\"Harrison Butker\",\"Matt Gay\",\"Greg Zuerlein\",\"Robbie Gould\",\"Mason Crosby\",\"Ka'imi Fairbairn\",\"Dan Bailey\",\"Jason Myers\",\"Brett Maher\",\"Aldrick Rosas\",\"Matt Prater\",\"Jake Elliott\",\"Daniel Carlson\",\"Zane Gonzalez\",\"Joey Slye\",\"Austin Seibert\",\"Stephen Hauschka\",\"Jason Sanders\",\"Chris Boswell\",\"Eddy Pineiro\",\"Chase McLaughlin\",\"Brandon McManus\",\"Ryan Succop\",\"Randy Bullock\",\"Sam Ficken\",\"Adam Vinatieri\",\"Dustin Hopkins\",\"Michael Badgley\",\"Josh Lambo\",\"Younghoe Koo\",\"Mike Nugent\",\"Matt Bryant\",\"Nick Folk\",\"Cairo Santos\",\"Kai Forbath\",\"Stephen Gostkowski\",\"Greg Joseph\",\"Ty Long\",\"Cody Parkey\",\"Lac Edwards\",\"Jamie Gillan\",\"Andy Lee\",\"Thomas Morstead\",\"Rigoberto Sanchez\",\"Bradley Pinion\",\"Mitch Wishnowsky\",\"Chris Jones\",\"Dustin Colquitt\",\"Bryan Anger\",\"Sam Koch\",\"Ryan Allen\",\"Trevor Daniel\",\"Matthew Bosher\",\"Kasey Redfern\",\"Matt Wile\",\"Ryan Winslow\",\"Britton Colquitt\",\"Johnny Hekker\",\"Jake Bailey\",\"Kaare Vedvik\",\"Pat O'Donnell\",\"Corey Bojorquez\",\"Tress Way\",\"Brett Kern\",\"Colby Wadman\",\"JK Scott\",\"Sam Martin\",\"Logan Cooke\",\"Kevin Huber\",\"Michael Palardy\",\"Jordan Berry\",\"Michael Dickson\",\"Cameron Johnston\",\"Riley Dixon\",\"Matt Haack\",\"A.J. Cole\"]},\"selected\":{\"id\":\"1045\"},\"selection_policy\":{\"id\":\"1062\"}},\"id\":\"1044\",\"type\":\"ColumnDataSource\"},{\"attributes\":{},\"id\":\"1155\",\"type\":\"ResetTool\"},{\"attributes\":{\"axis_label\":\"Extra Points Made\",\"bounds\":\"auto\",\"formatter\":{\"id\":\"1055\"},\"major_label_orientation\":\"horizontal\",\"ticker\":{\"id\":\"1028\"}},\"id\":\"1027\",\"type\":\"LinearAxis\"},{\"attributes\":{\"margin\":[5,10,5,10],\"options\":[\"Kicker\",\"QB\"],\"title\":\"pos\",\"value\":\"Kicker\"},\"id\":\"1003\",\"type\":\"Select\"},{\"attributes\":{},\"id\":\"1140\",\"type\":\"CategoricalScale\"},{\"attributes\":{},\"id\":\"1053\",\"type\":\"CategoricalTickFormatter\"},{\"attributes\":{\"overlay\":{\"id\":\"1036\"}},\"id\":\"1034\",\"type\":\"BoxZoomTool\"},{\"attributes\":{},\"id\":\"1020\",\"type\":\"CategoricalScale\"},{\"attributes\":{},\"id\":\"1031\",\"type\":\"SaveTool\"},{\"attributes\":{\"source\":{\"id\":\"1044\"}},\"id\":\"1051\",\"type\":\"CDSView\"},{\"attributes\":{\"active_drag\":\"auto\",\"active_inspect\":\"auto\",\"active_multi\":null,\"active_scroll\":\"auto\",\"active_tap\":\"auto\",\"tools\":[{\"id\":\"1074\"},{\"id\":\"1091\"},{\"id\":\"1092\"},{\"id\":\"1093\"},{\"id\":\"1094\"},{\"id\":\"1095\"}]},\"id\":\"1097\",\"type\":\"Toolbar\"},{\"attributes\":{},\"id\":\"1033\",\"type\":\"WheelZoomTool\"},{\"attributes\":{},\"id\":\"1122\",\"type\":\"UnionRenderers\"},{\"attributes\":{\"axis_label\":\"Player\",\"bounds\":\"auto\",\"formatter\":{\"id\":\"1053\"},\"major_label_orientation\":1.5707963267948966,\"ticker\":{\"id\":\"1025\"}},\"id\":\"1024\",\"type\":\"CategoricalAxis\"},{\"attributes\":{\"end\":8.8,\"reset_end\":8.8,\"reset_start\":0.0,\"tags\":[[[\"FGM 50+\",\"FGM 50+\",null]]]},\"id\":\"1133\",\"type\":\"Range1d\"},{\"attributes\":{\"data\":{\"FGM_0_hyphen_minus_49\":{\"__ndarray__\":\"AAAAAAAAP0AAAAAAAAA9QAAAAAAAAD1AAAAAAAAAPUAAAAAAAAA8QAAAAAAAADpAAAAAAAAAOUAAAAAAAAA4QAAAAAAAADhAAAAAAAAAN0AAAAAAAAA3QAAAAAAAADZAAAAAAAAANkAAAAAAAAA1QAAAAAAAADVAAAAAAAAANUAAAAAAAAA1QAAAAAAAADRAAAAAAAAANEAAAAAAAAAzQAAAAAAAADNAAAAAAAAAM0AAAAAAAAAxQAAAAAAAADFAAAAAAAAAMEAAAAAAAAAwQAAAAAAAAC5AAAAAAAAALkAAAAAAAAAqQAAAAAAAACpAAAAAAAAAKEAAAAAAAAAkQAAAAAAAABxAAAAAAAAAHEAAAAAAAAAYQAAAAAAAABRAAAAAAAAACEAAAAAAAAAAQAAAAAAAAPA/AAAAAAAAAAAAAAAAAAAAAAAAAAAAAAAAAAAAAAAAAAAAAAAAAAAAAAAAAAAAAAAAAAAAAAAAAAAAAAAAAAAAAAAAAAAAAAAAAAAAAAAAAAAAAAAAAAAAAAAAAAAAAAAAAAAAAAAAAAAAAAAAAAAAAAAAAAAAAAAAAAAAAAAAAAAAAAAAAAAAAAAAAAAAAAAAAAAAAAAAAAAAAAAAAAAAAAAAAAAAAAAAAAAAAAAAAAAAAAAAAAAAAAAAAAAAAAAAAAAAAAAAAAAAAAAAAAAAAAAAAAAAAAAAAAAAAAAAAAAAAAAAAAAAAAAAAAAAAAAAAAAAAAAAAAAAAAAAAAAAAAAAAAAAAAAAAAAAAAAAAAAAAAAAAAAAAAAAAAAAAAAAAAAAAAAAAAAAAAAAAAAAAA==\",\"dtype\":\"float64\",\"order\":\"little\",\"shape\":[77]},\"Player\":[\"Harrison Butker\",\"Zane Gonzalez\",\"Josh Lambo\",\"Wil Lutz\",\"Chris Boswell\",\"Randy Bullock\",\"Brandon McManus\",\"Dan Bailey\",\"Austin Seibert\",\"Robbie Gould\",\"Dustin Hopkins\",\"Matt Gay\",\"Younghoe Koo\",\"Mason Crosby\",\"Eddy Pineiro\",\"Stephen Hauschka\",\"Jason Myers\",\"Jason Sanders\",\"Jake Elliott\",\"Greg Zuerlein\",\"Matt Prater\",\"Daniel Carlson\",\"Joey Slye\",\"Ka'imi Fairbairn\",\"Sam Ficken\",\"Brett Maher\",\"Chase McLaughlin\",\"Adam Vinatieri\",\"Nick Folk\",\"Michael Badgley\",\"Aldrick Rosas\",\"Kai Forbath\",\"Matt Bryant\",\"Stephen Gostkowski\",\"Ty Long\",\"Mike Nugent\",\"Cairo Santos\",\"Cody Parkey\",\"Ryan Succop\",\"Dustin Colquitt\",\"Britton Colquitt\",\"Andy Lee\",\"Thomas Morstead\",\"Rigoberto Sanchez\",\"Bradley Pinion\",\"Mitch Wishnowsky\",\"Chris Jones\",\"Bryan Anger\",\"Johnny Hekker\",\"Sam Koch\",\"Ryan Allen\",\"Trevor Daniel\",\"Matthew Bosher\",\"Kasey Redfern\",\"Matt Wile\",\"Ryan Winslow\",\"Jamie Gillan\",\"A.J. Cole\",\"Kaare Vedvik\",\"JK Scott\",\"Lac Edwards\",\"Jake Bailey\",\"Pat O'Donnell\",\"Corey Bojorquez\",\"Tress Way\",\"Brett Kern\",\"Colby Wadman\",\"Sam Martin\",\"Matt Haack\",\"Logan Cooke\",\"Kevin Huber\",\"Michael Palardy\",\"Jordan Berry\",\"Michael Dickson\",\"Cameron Johnston\",\"Riley Dixon\",\"Greg Joseph\"]},\"selected\":{\"id\":\"1105\"},\"selection_policy\":{\"id\":\"1122\"}},\"id\":\"1104\",\"type\":\"ColumnDataSource\"},{\"attributes\":{\"bottom_units\":\"screen\",\"fill_alpha\":0.5,\"fill_color\":\"lightgrey\",\"left_units\":\"screen\",\"level\":\"overlay\",\"line_alpha\":1.0,\"line_color\":\"black\",\"line_dash\":[4,4],\"line_width\":2,\"right_units\":\"screen\",\"top_units\":\"screen\"},\"id\":\"1096\",\"type\":\"BoxAnnotation\"},{\"attributes\":{\"data\":{\"FGM_50_plus\":{\"__ndarray__\":\"AAAAAAAAIEAAAAAAAAAcQAAAAAAAABRAAAAAAAAAFEAAAAAAAAAQQAAAAAAAABBAAAAAAAAAEEAAAAAAAAAIQAAAAAAAAAhAAAAAAAAACEAAAAAAAAAIQAAAAAAAAAhAAAAAAAAACEAAAAAAAAAIQAAAAAAAAABAAAAAAAAAAEAAAAAAAAAAQAAAAAAAAABAAAAAAAAAAEAAAAAAAAAAQAAAAAAAAABAAAAAAAAA8D8AAAAAAADwPwAAAAAAAPA/AAAAAAAA8D8AAAAAAADwPwAAAAAAAPA/AAAAAAAA8D8AAAAAAADwPwAAAAAAAPA/AAAAAAAA8D8AAAAAAADwPwAAAAAAAAAAAAAAAAAAAAAAAAAAAAAAAAAAAAAAAAAAAAAAAAAAAAAAAAAAAAAAAAAAAAAAAAAAAAAAAAAAAAAAAAAAAAAAAAAAAAAAAAAAAAAAAAAAAAAAAAAAAAAAAAAAAAAAAAAAAAAAAAAAAAAAAAAAAAAAAAAAAAAAAAAAAAAAAAAAAAAAAAAAAAAAAAAAAAAAAAAAAAAAAAAAAAAAAAAAAAAAAAAAAAAAAAAAAAAAAAAAAAAAAAAAAAAAAAAAAAAAAAAAAAAAAAAAAAAAAAAAAAAAAAAAAAAAAAAAAAAAAAAAAAAAAAAAAAAAAAAAAAAAAAAAAAAAAAAAAAAAAAAAAAAAAAAAAAAAAAAAAAAAAAAAAAAAAAAAAAAAAAAAAAAAAAAAAAAAAAAAAAAAAAAAAAAAAAAAAAAAAAAAAAAAAAAAAAAAAAAAAAAAAAAAAAAAAAAAAAAAAAAAAAAAAAAAAAAAAA==\",\"dtype\":\"float64\",\"order\":\"little\",\"shape\":[77]},\"Player\":[\"Joey Slye\",\"Matt Prater\",\"Matt Gay\",\"Greg Zuerlein\",\"Brett Maher\",\"Josh Lambo\",\"Brandon McManus\",\"Jason Sanders\",\"Ka'imi Fairbairn\",\"Chase McLaughlin\",\"Sam Ficken\",\"Dan Bailey\",\"Harrison Butker\",\"Wil Lutz\",\"Dustin Hopkins\",\"Matt Bryant\",\"Jason Myers\",\"Eddy Pineiro\",\"Jake Elliott\",\"Zane Gonzalez\",\"Adam Vinatieri\",\"Mason Crosby\",\"Kai Forbath\",\"Ty Long\",\"Cairo Santos\",\"Nick Folk\",\"Cody Parkey\",\"Younghoe Koo\",\"Stephen Hauschka\",\"Austin Seibert\",\"Randy Bullock\",\"Chris Boswell\",\"Mitch Wishnowsky\",\"Matt Haack\",\"A.J. Cole\",\"Johnny Hekker\",\"Jamie Gillan\",\"Britton Colquitt\",\"Andy Lee\",\"Thomas Morstead\",\"Rigoberto Sanchez\",\"Bradley Pinion\",\"Bryan Anger\",\"Chris Jones\",\"Dustin Colquitt\",\"Cameron Johnston\",\"Sam Koch\",\"Ryan Allen\",\"Trevor Daniel\",\"Matthew Bosher\",\"Kasey Redfern\",\"Matt Wile\",\"Ryan Winslow\",\"Riley Dixon\",\"Jordan Berry\",\"Michael Dickson\",\"Daniel Carlson\",\"Aldrick Rosas\",\"Michael Badgley\",\"Robbie Gould\",\"Stephen Gostkowski\",\"Mike Nugent\",\"Ryan Succop\",\"Kaare Vedvik\",\"Lac Edwards\",\"Jake Bailey\",\"Pat O'Donnell\",\"Corey Bojorquez\",\"Tress Way\",\"Brett Kern\",\"Colby Wadman\",\"JK Scott\",\"Sam Martin\",\"Logan Cooke\",\"Kevin Huber\",\"Michael Palardy\",\"Greg Joseph\"]},\"selected\":{\"id\":\"1165\"},\"selection_policy\":{\"id\":\"1182\"}},\"id\":\"1164\",\"type\":\"ColumnDataSource\"},{\"attributes\":{},\"id\":\"1022\",\"type\":\"LinearScale\"},{\"attributes\":{\"fill_color\":{\"value\":\"#1f77b3\"},\"top\":{\"field\":\"Extra_Points_Made\"},\"width\":{\"value\":0.8},\"x\":{\"field\":\"Player\"}},\"id\":\"1047\",\"type\":\"VBar\"},{\"attributes\":{\"fill_alpha\":{\"value\":0.2},\"fill_color\":{\"value\":\"#1f77b3\"},\"line_alpha\":{\"value\":0.2},\"top\":{\"field\":\"Extra_Points_Made\"},\"width\":{\"value\":0.8},\"x\":{\"field\":\"Player\"}},\"id\":\"1049\",\"type\":\"VBar\"},{\"attributes\":{},\"id\":\"1028\",\"type\":\"BasicTicker\"}],\"root_ids\":[\"1001\",\"1264\"]},\"title\":\"Bokeh Application\",\"version\":\"2.1.1\"}};\n",
       "  var render_items = [{\"docid\":\"95be1778-745c-4cbd-a1c3-95064a1cec23\",\"root_ids\":[\"1001\"],\"roots\":{\"1001\":\"b1b7d8fb-45f4-4af5-b156-78956a129a98\"}}];\n",
       "  root.Bokeh.embed.embed_items_notebook(docs_json, render_items);\n",
       "  }\n",
       "if (root.Bokeh !== undefined) {\n",
       "    embed_document(root);\n",
       "  } else {\n",
       "    var attempts = 0;\n",
       "    var timer = setInterval(function(root) {\n",
       "      if (root.Bokeh !== undefined) {\n",
       "        clearInterval(timer);\n",
       "        embed_document(root);\n",
       "      } else if (document.readyState == \"complete\") {\n",
       "        attempts++;\n",
       "        if (attempts > 100) {\n",
       "          clearInterval(timer);\n",
       "          console.log(\"Bokeh: ERROR: Unable to run BokehJS code because BokehJS library is missing\");\n",
       "        }\n",
       "      }\n",
       "    }, 10, root)\n",
       "  }\n",
       "})(window);</script>"
      ],
      "text/plain": [
       "Column\n",
       "    [0] Column\n",
       "        [0] Select(name='pos', options=['Kicker', 'QB'], value='Kicker')\n",
       "    [1] Row\n",
       "        [0] Column\n",
       "            [0] Column\n",
       "                [0] RangeSlider(end=50, name='PATs Made', step=1, value=(0, 50))\n",
       "                [1] RangeSlider(end=50, name='FGM 0-49 Yards', step=1, value=(0, 50))\n",
       "                [2] RangeSlider(end=50, name='FGM 50+ Yards', step=1, value=(0, 50))\n",
       "            [1] Row\n",
       "                [0] Column\n",
       "                    [0] HoloViews(Bars)\n",
       "                    [1] HoloViews(Bars)\n",
       "                    [2] HoloViews(Bars)"
      ]
     },
     "execution_count": 11,
     "metadata": {
      "application/vnd.holoviews_exec.v0+json": {
       "id": "1001"
      }
     },
     "output_type": "execute_result"
    }
   ],
   "source": [
    "def position(pos):\n",
    "\n",
    "    # Insert KICKER POSITION\n",
    "    def kicker(kPATs,kFG0,kFG50):\n",
    "\n",
    "        #read in CSV\n",
    "        kicker_path = (\"Resources/Kickers.csv\")\n",
    "        kicker_df = pd.read_csv(kicker_path)\n",
    "\n",
    "\n",
    "        #DATA CLEAN SECTION\n",
    "        #load total rankings if needed\n",
    "        kicker_df['Total'] = kicker_df['Extra Points Made'] + kicker_df['FGM 0-49']*2 + kicker_df['FGM 50+']*3\n",
    "        kicker_df.head()\n",
    "\n",
    "        #fill nan with 0's\n",
    "        kicker_df.fillna(0, inplace = True)\n",
    "\n",
    "\n",
    "        #PARAMATERS SECTION\n",
    "        kicker_df = kicker_df.loc[kicker_df['Extra Points Made'] >= kPATs[0]]\n",
    "        kicker_df = kicker_df.loc[kicker_df['Extra Points Made'] <= kPATs[1]]\n",
    "        kicker_df = kicker_df.loc[kicker_df['FGM 0-49'] >= kFG0[0]]\n",
    "        kicker_df = kicker_df.loc[kicker_df['FGM 0-49'] <= kFG0[1]]\n",
    "        kicker_df = kicker_df.loc[kicker_df['FGM 50+'] >= kFG50[0]]\n",
    "        kicker_df = kicker_df.loc[kicker_df['FGM 50+'] <= kFG50[1]]\n",
    "\n",
    "\n",
    "        #PLOTTING SECTION\n",
    "        #group by players\n",
    "        PATs_by_player = kicker_df[[\"Player\",\"Extra Points Made\"]]\n",
    "        total_PATs_by_player = PATs_by_player.sort_values(by = 'Extra Points Made', ascending = False)\n",
    "\n",
    "        FG0_by_player = kicker_df[[\"Player\",\"FGM 0-49\"]]\n",
    "        total_FG0_by_player = FG0_by_player.sort_values(by = 'FGM 0-49', ascending = False)\n",
    "\n",
    "        FG50_by_player = kicker_df[[\"Player\",\"FGM 50+\"]]\n",
    "        total_FG50_by_player = FG50_by_player.sort_values(by = 'FGM 50+', ascending = False)\n",
    "\n",
    "\n",
    "        #Plot bar charts\n",
    "        PATs_bar = total_PATs_by_player.hvplot.bar(title = \"PATs by Player\", x = 'Player', width=1000, height=300, rot = 90)\n",
    "        FG0_bar = total_FG0_by_player.hvplot.bar(title = \"FGM 0-49 Yds by Player\", x = 'Player', width=1000, height=300,  rot = 90)\n",
    "        FG50_bar = total_FG50_by_player.hvplot.bar(title = \"FGM 50+ Yds by Player\", x = 'Player', width=1000, height=300, rot = 90)\n",
    "\n",
    "        return pn.Column(PATs_bar,FG0_bar,FG50_bar)\n",
    "    \n",
    "    \n",
    "    #POSITION SELECTOR\n",
    "    if pos == \"Kicker\": return pn.interact(kicker,\n",
    "       kPATs = pn.widgets.RangeSlider(name = \"PATs Made\", start = 0, end = 50),\n",
    "       kFG0 = pn.widgets.RangeSlider(name = \"FGM 0-49 Yards\", start = 0, end = 50),\n",
    "       kFG50 = pn.widgets.RangeSlider(name = \"FGM 50+ Yards\", start = 0, end = 50))\n",
    "\n",
    "pn.interact(position,pos = [\"Kicker\",\"QB\"])"
   ]
  },
  {
   "cell_type": "code",
   "execution_count": null,
   "metadata": {},
   "outputs": [],
   "source": []
  }
 ],
 "metadata": {
  "kernelspec": {
   "display_name": "Python [conda env:pyvizenv] *",
   "language": "python",
   "name": "conda-env-pyvizenv-py"
  },
  "language_info": {
   "codemirror_mode": {
    "name": "ipython",
    "version": 3
   },
   "file_extension": ".py",
   "mimetype": "text/x-python",
   "name": "python",
   "nbconvert_exporter": "python",
   "pygments_lexer": "ipython3",
   "version": "3.7.7"
  }
 },
 "nbformat": 4,
 "nbformat_minor": 4
}
